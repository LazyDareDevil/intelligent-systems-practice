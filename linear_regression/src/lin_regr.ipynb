{
 "metadata": {
  "language_info": {
   "codemirror_mode": {
    "name": "ipython",
    "version": 3
   },
   "file_extension": ".py",
   "mimetype": "text/x-python",
   "name": "python",
   "nbconvert_exporter": "python",
   "pygments_lexer": "ipython3",
   "version": "3.8.3-final"
  },
  "orig_nbformat": 2,
  "kernelspec": {
   "name": "python3",
   "display_name": "Python 3"
  }
 },
 "nbformat": 4,
 "nbformat_minor": 2,
 "cells": [
  {
   "cell_type": "code",
   "execution_count": 10,
   "metadata": {},
   "outputs": [],
   "source": [
    "import csv\n",
    "from math import sqrt\n",
    "import os\n",
    "from copy import deepcopy"
   ]
  },
  {
   "cell_type": "code",
   "execution_count": 11,
   "metadata": {},
   "outputs": [],
   "source": [
    "notebook_path = os.path.abspath(os.path.join(os.path.dirname(os.path.abspath(\"lin_regr.ipynb\")), os.pardir))\n",
    "data_folder = \"/data/\""
   ]
  },
  {
   "cell_type": "code",
   "execution_count": 12,
   "metadata": {},
   "outputs": [],
   "source": [
    "airline_delay_causes = []\n",
    "columns = []\n",
    "target_variable = \"DEP_DELAY\"\n",
    "target_col = []"
   ]
  },
  {
   "source": [
    "Считывание данных из файла в array"
   ],
   "cell_type": "markdown",
   "metadata": {}
  },
  {
   "cell_type": "code",
   "execution_count": 13,
   "metadata": {},
   "outputs": [],
   "source": [
    "with open(notebook_path+data_folder+'2017.csv', newline='\\n') as csv_file:\n",
    "\tcsv_reader = csv.reader(csv_file, delimiter=',')\n",
    "\tline_count = 0\n",
    "\tfor row in csv_reader:\n",
    "\t\tif line_count == 0:\n",
    "\t\t\tcolumns = row.copy()\n",
    "\t\t\tline_count += 1\n",
    "\t\telse:\n",
    "\t\t\tairline_delay_causes.append(row)\n",
    "\t\t\tline_count += 1"
   ]
  },
  {
   "cell_type": "code",
   "execution_count": 14,
   "metadata": {},
   "outputs": [
    {
     "output_type": "stream",
     "name": "stdout",
     "text": [
      "0   YEAR\n1   MONTH\n2   DAY_OF_MONTH\n3   DAY_OF_WEEK\n4   OP_UNIQUE_CARRIER\n5   TAIL_NUM\n6   OP_CARRIER_FL_NUM\n7   ORIGIN\n8   DEST\n9   CRS_DEP_TIME\n10   DEP_TIME\n11   DEP_DELAY\n12   TAXI_OUT\n13   TAXI_IN\n14   CRS_ARR_TIME\n15   ARR_TIME\n16   ARR_DELAY\n17   CANCELLED\n18   CANCELLATION_CODE\n19   DIVERTED\n20   CRS_ELAPSED_TIME\n21   ACTUAL_ELAPSED_TIME\n22   AIR_TIME\n23   FLIGHTS\n24   DISTANCE\n25   CARRIER_DELAY\n26   WEATHER_DELAY\n27   NAS_DELAY\n28   SECURITY_DELAY\n29   LATE_AIRCRAFT_DELAY\n30   \n"
     ]
    }
   ],
   "source": [
    "for col in columns:\n",
    "    print(columns.index(col), \" \", col)"
   ]
  },
  {
   "source": [
    "Отбор необходимых признаков, отбрасывание столбцов, у которых эти фичи находятся без значения"
   ],
   "cell_type": "markdown",
   "metadata": {}
  },
  {
   "cell_type": "code",
   "execution_count": 15,
   "metadata": {},
   "outputs": [
    {
     "output_type": "execute_result",
     "data": {
      "text/plain": [
       "489170"
      ]
     },
     "metadata": {},
     "execution_count": 15
    }
   ],
   "source": [
    "target_index = 11\n",
    "# features = [1, 2, 9, 10, 12, 17, 19, 25, 26, 27, 28, 29]\n",
    "features = [1, 2, 9, 10, 17, 19]\n",
    "# features = [9, 25, 29]\n",
    "data_train_features = []\n",
    "data_train_target = []\n",
    "for row in airline_delay_causes:\n",
    "\ttmp = []\n",
    "\tfor col in features:\n",
    "\t\tif len(row[col]) == 0:\n",
    "\t\t\tbreak\n",
    "\t\tif len(row[target_index]) == 0:\n",
    "\t\t\tbreak\n",
    "\t\telse:\n",
    "\t\t\ttmp.append(float(row[col]))\n",
    "\tif len(tmp) == len(features):\n",
    "\t\tdata_train_features.append(tmp)\n",
    "\t\tdata_train_target.append(float(row[target_index]))\n",
    "len(data_train_features)"
   ]
  },
  {
   "source": [
    "Функции линейной алгебры"
   ],
   "cell_type": "markdown",
   "metadata": {}
  },
  {
   "cell_type": "code",
   "execution_count": 16,
   "metadata": {},
   "outputs": [],
   "source": [
    "def norm(V):\n",
    "    ans = 0\n",
    "    for i in V:\n",
    "        ans += i**2\n",
    "    return sqrt(ans)\n",
    "\n",
    "def sumvc(X, a):\n",
    "    ans = X.copy()\n",
    "    for i in range(len(X)):\n",
    "        ans[i] += a\n",
    "    return ans\n",
    "\n",
    "def sumvv(X, Y):\n",
    "    if len(X) != len(Y):\n",
    "        raise Exception(\"Len of vectors should be same!\")\n",
    "    ans = X.copy()\n",
    "    for i in range(len(Y)):\n",
    "        ans[i] += Y[i]\n",
    "    return ans\n",
    "\n",
    "def subvc(X, a):\n",
    "    ans = X.copy()\n",
    "    for i in range(len(X)):\n",
    "        ans[i] -= a\n",
    "    return ans\n",
    "\n",
    "def subvv(X, Y):\n",
    "    if len(X) != len(Y):\n",
    "        raise Exception(\"Len of vectors should be same!\")\n",
    "    ans = X.copy()\n",
    "    for i in range(len(Y)):\n",
    "        ans[i] -= Y[i]\n",
    "    return ans\n",
    "\n",
    "def multvc(X, c):\n",
    "    ans = X.copy()\n",
    "    for i in range(len(X)):\n",
    "        ans[i] *= c\n",
    "    return ans\n",
    "\n",
    "def multvv(X, Y):\n",
    "    if len(X) != len(Y):\n",
    "        raise Exception(\"Len of vectors should be same!\")\n",
    "    ans = X.copy()\n",
    "    for i in range(len(Y)):\n",
    "        ans[i] *= Y[i]\n",
    "    return ans\n",
    "\n",
    "def dotvv(X, Y):\n",
    "    if len(X) != len(Y):\n",
    "        raise Exception(\"Len of vectors should be same!\")\n",
    "    ans = 0\n",
    "    for i in range(len(X)):\n",
    "        ans += X[i] * Y[i]\n",
    "    return ans\n",
    "\n",
    "def summc(A, c):\n",
    "    if len(A) == 0:\n",
    "        return []\n",
    "    rows_A = len(A)\n",
    "    cols_A = len(A[0])\n",
    "    ans = [[0 for row in range(cols_A)] for col in range(rows_A)]\n",
    "    for i in range(rows_A):\n",
    "        for j in range(cols_A):\n",
    "            ans[i][j] = A[i][j] + c\n",
    "    return ans\n",
    "\n",
    "def summm(A, B):\n",
    "    if len(A) == 0 or len(B) == 0:\n",
    "        return []\n",
    "    if len(A) != len(B) or len(A[0]) != len(B[0]):\n",
    "        raise Exception(\"Dim of matrix should be same!\")\n",
    "    rows_A = len(A)\n",
    "    cols_B = len(B[0])\n",
    "    ans = [[0 for row in range(cols_B)] for col in range(rows_A)]\n",
    "    for i in range(rows_A):\n",
    "        for j in range(cols_B):\n",
    "            ans[i][j] = A[i][j] + B[i][j]\n",
    "    return ans\n",
    "\n",
    "def submc(A, c):\n",
    "    if len(A) == 0:\n",
    "        return []\n",
    "    rows_A = len(A)\n",
    "    cols_A = len(A[0])\n",
    "    ans = [[0 for row in range(cols_A)] for col in range(rows_A)]\n",
    "    for i in range(rows_A):\n",
    "        for j in range(cols_A):\n",
    "            ans[i][j] = A[i][j] - c\n",
    "    return ans\n",
    "\n",
    "def submm(A, B):\n",
    "    if len(A) == 0 or len(B) == 0:\n",
    "        return []\n",
    "    if len(A) != len(B) or len(A[0]) != len(B[0]):\n",
    "        raise Exception(\"Dim of matrix should be same!\")\n",
    "    rows_A = len(A)\n",
    "    cols_B = len(B[0])\n",
    "    ans = [[0 for row in range(cols_B)] for col in range(rows_A)]\n",
    "    for i in range(rows_A):\n",
    "        for j in range(cols_B):\n",
    "            ans[i][j] = A[i][j] - B[i][j]\n",
    "    return ans\n",
    "\n",
    "def multmc(A, c):\n",
    "    if len(A) == 0:\n",
    "        return []\n",
    "    rows_A = len(A)\n",
    "    cols_A = len(A[0])\n",
    "    ans = [[0 for col in range(cols_A)] for row in range(rows_A)]\n",
    "    for i in range(rows_A):\n",
    "        for j in range(cols_A):\n",
    "            ans[i][j] = A[i][j] * c\n",
    "    return ans\n",
    "\n",
    "def multmv(A, V):\n",
    "    if len(A) == 0:\n",
    "        return []\n",
    "    rows_A = len(A)\n",
    "    cols_A = len(A[0])\n",
    "    rows_V = len(V)\n",
    "    if cols_A != rows_V:\n",
    "        raise Exception(\"Cannot multiply the matrix and vector. Incorrect dimensions.\")\n",
    "    ans = [0 for row in range(rows_A)]\n",
    "    for i in range(rows_A):\n",
    "        for j in range(cols_A):\n",
    "            ans[i] += A[i][j] * V[j]\n",
    "    return ans\n",
    "\n",
    "def multmm(A, B):\n",
    "    if len(A) == 0 or len(B) == 0:\n",
    "        return []\n",
    "    rows_A = len(A)\n",
    "    cols_A = len(A[0])\n",
    "    rows_B = len(B)\n",
    "    cols_B = len(B[0])\n",
    "    if cols_A != rows_B:\n",
    "        raise Exception(\"Cannot multiply the two matrices. Incorrect dimensions.\")\n",
    "    ans = [[0 for row in range(cols_B)] for col in range(rows_A)]\n",
    "    for i in range(rows_A):\n",
    "        for j in range(cols_B):\n",
    "            for k in range(cols_A):\n",
    "                ans[i][j] += A[i][k] * B[k][j]\n",
    "    return ans\n",
    "\n",
    "def decvc(V, c):\n",
    "    ans = V.copy()\n",
    "    for i in range(len(V)):\n",
    "        ans[i] /= c\n",
    "    return ans\n",
    "\n",
    "def decvv(V, W):\n",
    "    ans = V.copy()\n",
    "    for i in range(len(V)):\n",
    "        ans[i] /= W[i]\n",
    "    return ans\n",
    "\n",
    "def sqrtv(V):\n",
    "    ans = V.copy()\n",
    "    for i in range(len(V)):\n",
    "        ans[i] = sqrt(ans[i])\n",
    "    return ans\n",
    "\n",
    "def powv(V, s):\n",
    "    if s == 0:\n",
    "        return [1 for el in range(len(V))]\n",
    "    tmp = powv(V, int(s/2))\n",
    "    if s % 2 == 0:\n",
    "        return multvv(tmp, tmp)\n",
    "    else:\n",
    "        return multvv(multvv(tmp, tmp), V)"
   ]
  },
  {
   "source": [
    "Функции метрик"
   ],
   "cell_type": "markdown",
   "metadata": {}
  },
  {
   "cell_type": "code",
   "execution_count": 17,
   "metadata": {},
   "outputs": [],
   "source": [
    "def MSE(W, X, Y, alpha=None):\n",
    "    if len(X[0]) != len(W) or len(X) != len(Y):\n",
    "        raise Exception(\"Len of vectors should be same!\")\n",
    "    ans = 0\n",
    "    for i in range(len(X)):\n",
    "        ans += ((dotvv(W, X[i]) - Y[i])**2)/len(X)\n",
    "    return ans"
   ]
  },
  {
   "cell_type": "code",
   "execution_count": 18,
   "metadata": {},
   "outputs": [],
   "source": [
    "def MSE_l1(W, X, Y, alpha):\n",
    "\tif len(X[0]) != len(W) or len(X) != len(Y):\n",
    "\t\traise Exception(\"Len of vectors should be same!\")\n",
    "\tans = 0\n",
    "\tfor i in range(len(X)):\n",
    "\t\tans += ((dotvv(W, X[i]) - Y[i])**2)/len(X)\n",
    "\treturn ans + (alpha*norm(W))/len(W)"
   ]
  },
  {
   "cell_type": "code",
   "execution_count": 19,
   "metadata": {},
   "outputs": [],
   "source": [
    "def MSE_l2(W, X, Y, alpha):\n",
    "\tif len(X[0]) != len(W) or len(X) != len(Y):\n",
    "\t\traise Exception(\"Len of vectors should be same!\")\n",
    "\tans = 0\n",
    "\tfor i in range(len(X)):\n",
    "\t\tans += ((dotvv(W, X[i]) - Y[i])**2)/len(X)\n",
    "\treturn ans + (alpha*norm(W)**2)/len(W)"
   ]
  },
  {
   "cell_type": "code",
   "execution_count": 20,
   "metadata": {},
   "outputs": [],
   "source": [
    "def R2(W, X, Y):\n",
    "\tif len(X[0]) != len(W) or len(X) != len(Y):\n",
    "\t\traise Exception(\"Len of vectors should be same!\")\n",
    "\tym = sum(Y)/len(Y)\n",
    "\tSSreg = 0\n",
    "\tfor i in range(len(X)):\n",
    "\t\tSSreg += (dotvv(W, X[i]) - ym)**2\n",
    "\tSStot = 0\n",
    "\tfor i in range(len(Y)):\n",
    "\t\tSStot += (Y[i] - ym)**2\n",
    "\treturn 1 - (SSreg / SStot)"
   ]
  },
  {
   "source": [
    "Функции градиентного спуска"
   ],
   "cell_type": "markdown",
   "metadata": {}
  },
  {
   "cell_type": "code",
   "execution_count": 21,
   "metadata": {},
   "outputs": [],
   "source": [
    "def grad(method, h, W, X, Y, alpha):\n",
    "\tcol_X = len(X[0])\n",
    "\tans = [0 for i in range(col_X)]\n",
    "\tWn = W.copy()\n",
    "\tfor i in range(col_X):\n",
    "\t\tWn[i] += h\n",
    "\t\tans[i] = (method(Wn, X, Y, alpha) - method(W, X, Y, alpha))/h\n",
    "\t\tWn[i] -= h\n",
    "\treturn ans"
   ]
  },
  {
   "cell_type": "code",
   "execution_count": 31,
   "metadata": {},
   "outputs": [],
   "source": [
    "def LeastSquareMethod(method, A, y, alpha, beta=None, gamma=None):\n",
    "    col_A = len(A[0])\n",
    "    W = [1. for row in range(col_A)]\n",
    "    step = 1e-8\n",
    "    h = 1e-8\n",
    "    L = 0\n",
    "    Lnew = method(W, A, y, alpha)\n",
    "    num_steps = 2000\n",
    "    while abs(L - Lnew) > 1e-6 and num_steps > 0:\n",
    "        L = Lnew\n",
    "        W = subvv(W, multvc(grad(method, h, W, A, y, alpha), step))\n",
    "        Lnew = method(W, A, y, alpha)\n",
    "        num_steps -= 1\n",
    "    return W"
   ]
  },
  {
   "cell_type": "code",
   "execution_count": 23,
   "metadata": {},
   "outputs": [],
   "source": [
    "def SGD(method, A, y, alpha=None, beta=None, gamma=None):\n",
    "\tcol_A = len(A[0])\n",
    "\tW = [1. for row in range(col_A)]\n",
    "\tstep = 1e-8\n",
    "\th = 1e-8\n",
    "\tL = 0\n",
    "\tLnew = method(W, A, y, alpha)\n",
    "\tnum_steps = 50\n",
    "\twhile abs(L - Lnew) > 1e-5 and num_steps > 0:\n",
    "\t\tfor i in range(len(A)):\n",
    "\t\t\tL = Lnew\n",
    "\t\t\tW = subvv(W, multvc(grad(method, h, W, [A[i]], [y[i]], alpha), step))\n",
    "\t\t\tLnew = method(W, A, y, alpha)\n",
    "\t\tnum_steps -= 1\n",
    "\treturn W"
   ]
  },
  {
   "source": [
    "def AdaGrad(method, A, y, alpha=None, beta=None, gamma=None):\n",
    "\tcol_A = len(A[0])\n",
    "\tW = [1. for row in range(col_A)]\n",
    "\tstep = 1e-1\n",
    "\th = 1e-2\n",
    "\teps = 1\n",
    "\tL = method(W, A, y, alpha)\n",
    "\tGnii = [0 for i in range(col_A)]\n",
    "\ttemp = grad(method, h, W, A, y, alpha)\n",
    "\tfor i in range(col_A):\n",
    "\t\tGnii[i] = (temp[i])**2\n",
    "\t\tW[i] -= step*temp[i]/sqrt(Gnii[i] + eps)\n",
    "\tLnew = method(W, A, y, alpha)\n",
    "\tnum_steps = 2500\n",
    "\twhile abs(L - Lnew) > 1e-1 and num_steps > 0:\n",
    "\t\tL = Lnew\n",
    "\t\ttemp = grad(method, h, W, A, y, alpha)\n",
    "\t\tfor i in range(col_A):\n",
    "\t\t\tGnii[i] += (temp[i])**2\n",
    "\t\t\tW[i] -= step*temp[i]/sqrt(Gnii[i] + eps)\n",
    "\t\tLnew = method(W, A, y, alpha)\n",
    "\t\tnum_steps -= 1\n",
    "\treturn W"
   ],
   "cell_type": "code",
   "metadata": {},
   "execution_count": 24,
   "outputs": []
  },
  {
   "cell_type": "code",
   "execution_count": 25,
   "metadata": {},
   "outputs": [],
   "source": [
    "def RMSProp(method, A, y, alpha=None, beta=None, gamma=0.5):\n",
    "    if gamma is None:\n",
    "        gamma = 0.5\n",
    "    col_A = len(A[0])\n",
    "    W = [1. for row in range(col_A)]\n",
    "    step = 1e-3\n",
    "    h = 1e-3\n",
    "    eps = 1e-3\n",
    "    L = method(W, A, y, alpha)\n",
    "    Eg = 0\n",
    "    tmp = 0\n",
    "    tmpnew = grad(method, h, W, A, y, alpha)\n",
    "    Eg = multvc(powv(tmpnew, 2), 1-gamma)\n",
    "    W = subvv(W, decvv(multvc(tmpnew, step), sqrtv(sumvc(Eg, eps))))\n",
    "    Lnew = method(W, A, y, alpha)\n",
    "    num_steps = 3500\n",
    "    while abs(L - Lnew) > 1e-2 and num_steps > 0:\n",
    "        L = Lnew\n",
    "        tmp = tmpnew\n",
    "        tmpnew = grad(method, h, W, A, y, alpha)\n",
    "        Eg = sumvv(multvc(powv(tmp, 2), gamma), multvc(powv(tmpnew, 2), 1-gamma))\n",
    "        W = subvv(W, decvv(multvc(tmpnew, step), sqrtv(sumvc(Eg, eps))))\n",
    "        Lnew = method(W, A, y, alpha)\n",
    "        num_steps -= 1\n",
    "    return W"
   ]
  },
  {
   "cell_type": "code",
   "execution_count": 26,
   "metadata": {},
   "outputs": [],
   "source": [
    "def Adam(method, A, y, alpha=None, gamma=0.9, beta=[0.95, 0.95]):\n",
    "\tif gamma is None:\n",
    "\t\tgamma = 0.9\n",
    "\tif beta is None:\n",
    "\t\tbeta=[0.95, 0.95]\n",
    "\tcol_A = len(A[0])\n",
    "\tW =[1. for row in range(col_A)]\n",
    "\tstep = 1e-4\n",
    "\th = 1e-3\n",
    "\teps = 1e-3\n",
    "\tL = 0\n",
    "\tLnew = method(W, A, y, alpha)\n",
    "\ttmp = grad(method, h, W, A, y, alpha)\n",
    "\tmt = multvc(tmp, 1-beta[0])\n",
    "\t_mt = decvc(mt, 1-beta[0])\n",
    "\tvt = multvc(powv(tmp, 2), 1-beta[1])\n",
    "\t_vt = decvc(vt, 1-beta[1])\n",
    "\tW = subvv(W, decvv(multvc(_mt, step), sqrtv(sumvc(_vt, eps))))\n",
    "\tL = Lnew\n",
    "\tLnew = method(W, A, y, alpha)\n",
    "\tnum_steps = 4000\n",
    "\twhile abs(L - Lnew) > 1e-3 and num_steps > 0:\n",
    "\t\tL = Lnew\n",
    "\t\ttmp = grad(method, h, W, A, y, alpha)\n",
    "\t\tmt = sumvv(multvc(mt, beta[0]), multvc(tmp, 1-beta[0]))\n",
    "\t\t_mt = decvc(mt, 1-beta[0])\n",
    "\t\tvt = sumvv(multvc(vt, beta[1]), multvc(powv(tmp, 2), 1-beta[1]))\n",
    "\t\t_vt = decvc(vt, 1-beta[1])\n",
    "\t\tW = subvv(W, decvv(multvc(_mt, step), sqrtv(sumvc(_vt, eps))))\n",
    "\t\tLnew = method(W, A, y, alpha)\n",
    "\t\tnum_steps -= 1\n",
    "\treturn W"
   ]
  },
  {
   "source": [
    "Проверка работы написанных методов"
   ],
   "cell_type": "markdown",
   "metadata": {}
  },
  {
   "cell_type": "code",
   "execution_count": 27,
   "metadata": {},
   "outputs": [],
   "source": [
    "alpha = 0.8"
   ]
  },
  {
   "cell_type": "code",
   "execution_count": 28,
   "metadata": {
    "tags": []
   },
   "outputs": [
    {
     "output_type": "stream",
     "name": "stdout",
     "text": [
      "\nW (LSM) =  [0.9960995730343711, 0.9926346144393392, -0.0052154435543343425, 0.0016826163196128618, 0.999999868172381, 0.9999984121932357]\nLSM MSE (train) =  2075.8892509715474\nLSM R2  (train) =  0.9919665609015877\nLSM MSE (test) =  3690.8990275526553\nLSM R2  (test) =  0.9753011275538856\n"
     ]
    }
   ],
   "source": [
    "W = LeastSquareMethod(MSE_l1, data_train_features[:1000], data_train_target[:1000], alpha)\n",
    "print(\"\\nW (LSM) = \", W)\n",
    "print(\"LSM MSE (train) = \", MSE(W, data_train_features[:1000], data_train_target[:1000]))\n",
    "print(\"LSM R2  (train) = \", R2(W, data_train_features[:1000], data_train_target[:1000]))\n",
    "print(\"LSM MSE (test) = \", MSE(W, data_train_features[1000:2000], data_train_target[1000:2000]))\n",
    "print(\"LSM R2  (test) = \", R2(W, data_train_features[1000:2000], data_train_target[1000:2000]))"
   ]
  },
  {
   "cell_type": "code",
   "execution_count": 29,
   "metadata": {},
   "outputs": [
    {
     "output_type": "stream",
     "name": "stdout",
     "text": [
      "\nW (LSM) =  [0.9960991777934396, 0.9926342279768505, -0.005215435542140767, 0.0016826124242470542, 0.9999994697677721, 0.9999980173465701]\nLSM MSE (train) =  2075.8892291786265\nLSM R2  (train) =  0.9919665695895643\nLSM MSE (test) =  3690.899013578265\nLSM R2  (test) =  0.9753011183865042\n"
     ]
    }
   ],
   "source": [
    "W = LeastSquareMethod(MSE_l2, data_train_features[:1000], data_train_target[:1000], alpha)\n",
    "print(\"\\nW (LSM) = \", W)\n",
    "print(\"LSM MSE (train) = \", MSE(W, data_train_features[:1000], data_train_target[:1000]))\n",
    "print(\"LSM R2  (train) = \", R2(W, data_train_features[:1000], data_train_target[:1000]))\n",
    "print(\"LSM MSE (test) = \", MSE(W, data_train_features[1000:2000], data_train_target[1000:2000]))\n",
    "print(\"LSM R2  (test) = \", R2(W, data_train_features[1000:2000], data_train_target[1000:2000]))"
   ]
  },
  {
   "cell_type": "code",
   "execution_count": 30,
   "metadata": {},
   "outputs": [
    {
     "output_type": "stream",
     "name": "stdout",
     "text": [
      "\nW (SGD) =  [0.9767788640069827, 0.9569137232202143, -0.04171842779832985, 0.031776168422189666, 0.9999663673240918, 0.999945318684391]\nSGD MSE (train) =  2083.542365121791\nSGD R2  (train) =  0.9411037583164815\nSGD MSE (test) =  4269.536261750089\nSGD R2  (test) =  0.860223539374155\n"
     ]
    }
   ],
   "source": [
    "W = SGD(MSE_l1, data_train_features[:1000], data_train_target[:1000], alpha)\n",
    "print(\"\\nW (SGD) = \", W)\n",
    "print(\"SGD MSE (train) = \", MSE(W, data_train_features[:1000], data_train_target[:1000]))\n",
    "print(\"SGD R2  (train) = \", R2(W, data_train_features[:1000], data_train_target[:1000]))\n",
    "print(\"SGD MSE (test) = \", MSE(W, data_train_features[1000:2000], data_train_target[1000:2000]))\n",
    "print(\"SGD R2  (test) = \", R2(W, data_train_features[1000:2000], data_train_target[1000:2000]))"
   ]
  },
  {
   "cell_type": "code",
   "execution_count": 32,
   "metadata": {},
   "outputs": [
    {
     "output_type": "stream",
     "name": "stdout",
     "text": [
      "\nW (SGD) =  [0.9766811923975346, 0.9568177771588064, -0.041717396852635646, 0.03177632592747637, 0.9998666762150713, 0.9998456289685401]\nSGD MSE (train) =  2083.528833862823\nSGD R2  (train) =  0.9411070938539916\nSGD MSE (test) =  4269.533763502152\nSGD R2  (test) =  0.8602219440598152\n"
     ]
    }
   ],
   "source": [
    "W = SGD(MSE_l2, data_train_features[:1000], data_train_target[:1000], alpha)\n",
    "print(\"\\nW (SGD) = \", W)\n",
    "print(\"SGD MSE (train) = \", MSE(W, data_train_features[:1000], data_train_target[:1000]))\n",
    "print(\"SGD R2  (train) = \", R2(W, data_train_features[:1000], data_train_target[:1000]))\n",
    "print(\"SGD MSE (test) = \", MSE(W, data_train_features[1000:2000], data_train_target[1000:2000]))\n",
    "print(\"SGD R2  (test) = \", R2(W, data_train_features[1000:2000], data_train_target[1000:2000]))"
   ]
  },
  {
   "cell_type": "code",
   "execution_count": 33,
   "metadata": {},
   "outputs": [
    {
     "output_type": "stream",
     "name": "stdout",
     "text": [
      "\nW (AdaGrad) =  [0.012839853893695232, 0.012894829634810492, 0.002533774641954997, 0.004635690205356807, -0.004999999994089776, -0.014370021190601628]\nAdaGrad MSE (train) =  2008.6060146942868\nAdaGrad R2  (train) =  0.9922200698502885\nAdaGrad MSE (test) =  3773.598139948191\nAdaGrad R2  (test) =  0.9330724444048568\n"
     ]
    }
   ],
   "source": [
    "W = AdaGrad(MSE_l1, data_train_features[:1000], data_train_target[:1000], alpha)\n",
    "print(\"\\nW (AdaGrad) = \", W)\n",
    "print(\"AdaGrad MSE (train) = \", MSE(W, data_train_features[:1000], data_train_target[:1000]))\n",
    "print(\"AdaGrad R2  (train) = \", R2(W, data_train_features[:1000], data_train_target[:1000]))\n",
    "print(\"AdaGrad MSE (test) = \", MSE(W, data_train_features[1000:2000], data_train_target[1000:2000]))\n",
    "print(\"AdaGrad R2  (test) = \", R2(W, data_train_features[1000:2000], data_train_target[1000:2000]))"
   ]
  },
  {
   "cell_type": "code",
   "execution_count": 34,
   "metadata": {},
   "outputs": [
    {
     "output_type": "stream",
     "name": "stdout",
     "text": [
      "\nW (AdaGrad) =  [0.012846934300439136, 0.012898564238540884, 0.002533758474932849, 0.004635676121061766, 0.0454594756634639, -0.012611935473927319]\nAdaGrad MSE (train) =  2008.6063164073314\nAdaGrad R2  (train) =  0.9922200843895486\nAdaGrad MSE (test) =  3773.5995550703256\nAdaGrad R2  (test) =  0.9330735887075834\n"
     ]
    }
   ],
   "source": [
    "W = AdaGrad(MSE_l2, data_train_features[:1000], data_train_target[:1000], alpha)\n",
    "print(\"\\nW (AdaGrad) = \", W)\n",
    "print(\"AdaGrad MSE (train) = \", MSE(W, data_train_features[:1000], data_train_target[:1000]))\n",
    "print(\"AdaGrad R2  (train) = \", R2(W, data_train_features[:1000], data_train_target[:1000]))\n",
    "print(\"AdaGrad MSE (test) = \", MSE(W, data_train_features[1000:2000], data_train_target[1000:2000]))\n",
    "print(\"AdaGrad R2  (test) = \", R2(W, data_train_features[1000:2000], data_train_target[1000:2000]))"
   ]
  },
  {
   "cell_type": "code",
   "execution_count": 35,
   "metadata": {},
   "outputs": [
    {
     "output_type": "stream",
     "name": "stdout",
     "text": [
      "\nW (RMSProp) =  [-0.1282746180461945, 0.026593967596313956, -0.040398098670400465, 0.04853623838478936, -0.0005000000028995327, -0.07381834830662207]\nRMSProp MSE (train) =  1919.235336487971\nRMSProp R2  (train) =  0.9410633964551341\nRMSProp MSE (test) =  4147.037061167451\nRMSProp R2  (test) =  0.8766233163137869\n"
     ]
    }
   ],
   "source": [
    "W = RMSProp(MSE_l1, data_train_features[:1000], data_train_target[:1000], alpha)\n",
    "print(\"\\nW (RMSProp) = \", W)\n",
    "print(\"RMSProp MSE (train) = \", MSE(W, data_train_features[:1000], data_train_target[:1000]))\n",
    "print(\"RMSProp R2  (train) = \", R2(W, data_train_features[:1000], data_train_target[:1000]))\n",
    "print(\"RMSProp MSE (test) = \", MSE(W, data_train_features[1000:2000], data_train_target[1000:2000]))\n",
    "print(\"RMSProp R2  (test) = \", R2(W, data_train_features[1000:2000], data_train_target[1000:2000]))"
   ]
  },
  {
   "cell_type": "code",
   "execution_count": 36,
   "metadata": {},
   "outputs": [
    {
     "output_type": "stream",
     "name": "stdout",
     "text": [
      "\nW (RMSProp) =  [-0.1282746180461945, 0.026593967596313956, -0.040398098670400465, 0.04853623838478936, -0.0005000000028995327, -0.07381834830662207]\nRMSProp MSE (train) =  1919.235336487971\nRMSProp R2  (train) =  0.9410633964551341\nRMSProp MSE (test) =  4147.037061167451\nRMSProp R2  (test) =  0.8766233163137869\n"
     ]
    }
   ],
   "source": [
    "W = RMSProp(MSE_l1, data_train_features[:1000], data_train_target[:1000], alpha)\n",
    "print(\"\\nW (RMSProp) = \", W)\n",
    "print(\"RMSProp MSE (train) = \", MSE(W, data_train_features[:1000], data_train_target[:1000]))\n",
    "print(\"RMSProp R2  (train) = \", R2(W, data_train_features[:1000], data_train_target[:1000]))\n",
    "print(\"RMSProp MSE (test) = \", MSE(W, data_train_features[1000:2000], data_train_target[1000:2000]))\n",
    "print(\"RMSProp R2  (test) = \", R2(W, data_train_features[1000:2000], data_train_target[1000:2000]))"
   ]
  },
  {
   "cell_type": "code",
   "execution_count": 37,
   "metadata": {},
   "outputs": [
    {
     "output_type": "stream",
     "name": "stdout",
     "text": [
      "\nW (RMSProp) =  [-0.13299528810048913, 0.028235232232833245, -0.040394053070609746, 0.04853847612882452, -0.0004999999976010491, -0.15100410821903637]\nRMSProp MSE (train) =  1919.2124489846044\nRMSProp R2  (train) =  0.9410504809288357\nRMSProp MSE (test) =  4146.915028103956\nRMSProp R2  (test) =  0.8766492615510101\n"
     ]
    }
   ],
   "source": [
    "W = RMSProp(MSE_l2, data_train_features[:1000], data_train_target[:1000], alpha=0.5)\n",
    "print(\"\\nW (RMSProp) = \", W)\n",
    "print(\"RMSProp MSE (train) = \", MSE(W, data_train_features[:1000], data_train_target[:1000]))\n",
    "print(\"RMSProp R2  (train) = \", R2(W, data_train_features[:1000], data_train_target[:1000]))\n",
    "print(\"RMSProp MSE (test) = \", MSE(W, data_train_features[1000:2000], data_train_target[1000:2000]))\n",
    "print(\"RMSProp R2  (test) = \", R2(W, data_train_features[1000:2000], data_train_target[1000:2000]))"
   ]
  },
  {
   "cell_type": "code",
   "execution_count": 38,
   "metadata": {},
   "outputs": [
    {
     "output_type": "stream",
     "name": "stdout",
     "text": [
      "\nW (Adam) =  [-0.0013646780915485426, -0.0007490216235978604, -0.0033792158601944414, 0.009847250300560804, -0.0007818810409359904, -0.004373380923161368]\nAdam MSE (train) =  1988.7776069910058\nAdam R2  (train) =  0.9927093228484888\nAdam MSE (test) =  3841.5518708807285\nAdam R2  (test) =  0.9213626463397145\n"
     ]
    }
   ],
   "source": [
    "W = Adam(MSE_l1, data_train_features[:1000], data_train_target[:1000], alpha=0.95, gamma=0.95, beta=[0.95, 0.95])\n",
    "print(\"\\nW (Adam) = \", W)\n",
    "print(\"Adam MSE (train) = \", MSE(W, data_train_features[:1000], data_train_target[:1000]))\n",
    "print(\"Adam R2  (train) = \", R2(W, data_train_features[:1000], data_train_target[:1000]))\n",
    "print(\"Adam MSE (test) = \", MSE(W, data_train_features[1000:2000], data_train_target[1000:2000]))\n",
    "print(\"Adam R2  (test) = \", R2(W, data_train_features[1000:2000], data_train_target[1000:2000]))"
   ]
  },
  {
   "cell_type": "code",
   "execution_count": 39,
   "metadata": {},
   "outputs": [
    {
     "output_type": "stream",
     "name": "stdout",
     "text": [
      "\nW (Adam) =  [-0.04658733330257577, -0.019639268272707077, -0.0410710362486944, 0.048225087733778586, 0.003212863772234631, -0.06572414421194928]\nAdam MSE (train) =  1919.2865334050412\nAdam R2  (train) =  0.9441976334835918\nAdam MSE (test) =  4194.796127046099\nAdam R2  (test) =  0.864794574705339\n"
     ]
    }
   ],
   "source": [
    "W = Adam(MSE_l2,data_train_features[:1000], data_train_target[:1000], alpha, gamma=0.95, beta=[0.9, 0.9])\n",
    "print(\"\\nW (Adam) = \", W)\n",
    "print(\"Adam MSE (train) = \", MSE(W, data_train_features[:1000], data_train_target[:1000]))\n",
    "print(\"Adam R2  (train) = \", R2(W, data_train_features[:1000], data_train_target[:1000]))\n",
    "print(\"Adam MSE (test) = \", MSE(W, data_train_features[1000:2000], data_train_target[1000:2000]))\n",
    "print(\"Adam R2  (test) = \", R2(W, data_train_features[1000:2000], data_train_target[1000:2000]))"
   ]
  },
  {
   "source": [
    "Функция для кросс-валидации и работа с нею"
   ],
   "cell_type": "markdown",
   "metadata": {}
  },
  {
   "cell_type": "code",
   "execution_count": 40,
   "metadata": {},
   "outputs": [],
   "source": [
    "def CrossValidation(methodGD, methodReg, X, Y, alpha=None, beta=None, gamma=None, folds=5):\n",
    "    Wf = []\n",
    "    onefold = int(1000/folds)\n",
    "    for i in range(folds):\n",
    "        Wf.append(methodGD(methodReg, X[:i*onefold] + X[(i+1)*onefold:], \n",
    "                                      Y[:i*onefold] + Y[(i+1)*onefold:], alpha, beta, gamma))\n",
    "    W = Wf[0].copy()\n",
    "    for i in range(1, len(Wf)):\n",
    "        W = sumvv(W, Wf[i])\n",
    "    W = decvc(W, len(Wf))\n",
    "    MSE_train = []\n",
    "    MSE_test = []\n",
    "    R2_train = []\n",
    "    R2_test = []\n",
    "    for i in range(folds):\n",
    "        MSE_train.append(MSE(W, X[:i*onefold] + X[(i+1)*onefold:], \n",
    "                                Y[:i*onefold] + Y[(i+1)*onefold:]))\n",
    "        MSE_test.append(MSE(W, X[i*onefold:(i+1)*onefold], \n",
    "                                Y[i*onefold:(i+1)*onefold]))\n",
    "        R2_train.append(R2(W, X[:i*onefold] + X[(i+1)*onefold:], \n",
    "                              Y[:i*onefold] + Y[(i+1)*onefold:]))\n",
    "        R2_test.append(R2(W, X[i*onefold:(i+1)*onefold], \n",
    "                             Y[i*onefold:(i+1)*onefold]))\n",
    "    print(\"\\nW \" + str(methodGD.__name__) + \" (\" + str(methodReg.__name__) + \") = \", W)\n",
    "    print(str(methodGD.__name__) + \" MSE (train) = \", sum(MSE_train)/len(MSE_train))\n",
    "    print(str(methodGD.__name__) + \" R2  (train) = \", sum(R2_train)/len(R2_train))\n",
    "    print(str(methodGD.__name__) + \" MSE (test) = \", sum(MSE_test)/len(MSE_test))\n",
    "    print(str(methodGD.__name__) + \" R2  (test) = \", sum(R2_test)/len(R2_test))"
   ]
  },
  {
   "cell_type": "code",
   "execution_count": 41,
   "metadata": {},
   "outputs": [
    {
     "output_type": "stream",
     "name": "stdout",
     "text": [
      "\nW LeastSquareMethod (MSE_l1) =  [0.9953852417013878, 0.9912792999607063, -0.030614691657137882, 0.027037387329482954, 0.999998666602778, 0.9999957553703098]\nLeastSquareMethod MSE (train) =  2001.5915262803435\nLeastSquareMethod R2  (train) =  0.9737650094231194\nLeastSquareMethod MSE (test) =  2001.5915262803433\nLeastSquareMethod R2  (test) =  0.9042721596329862\n"
     ]
    }
   ],
   "source": [
    "CrossValidation(LeastSquareMethod, MSE_l1, data_train_features[:1000], data_train_target[:1000], alpha, beta=None, gamma=None)"
   ]
  },
  {
   "cell_type": "code",
   "execution_count": 42,
   "metadata": {},
   "outputs": [
    {
     "output_type": "stream",
     "name": "stdout",
     "text": [
      "\nW LeastSquareMethod (MSE_l2) =  [0.995381261637931, 0.9912753452806555, -0.030614617070114036, 0.027037356307209846, 0.9999946689767512, 0.9999917580214059]\nLeastSquareMethod MSE (train) =  2001.5911740598544\nLeastSquareMethod R2  (train) =  0.9737651429346539\nLeastSquareMethod MSE (test) =  2001.5911740598556\nLeastSquareMethod R2  (test) =  0.9042724935119153\n"
     ]
    }
   ],
   "source": [
    "CrossValidation(LeastSquareMethod, MSE_l2, data_train_features[:1000], data_train_target[:1000], alpha, beta=None, gamma=None)"
   ]
  },
  {
   "cell_type": "code",
   "execution_count": 43,
   "metadata": {},
   "outputs": [
    {
     "output_type": "stream",
     "name": "stdout",
     "text": [
      "\nW SGD (MSE_l1) =  [0.9806685510328548, 0.9642665064292528, -0.045983597620300486, 0.036235337506915856, 0.999973134558266, 0.9999563550967092]\nSGD MSE (train) =  2073.2146636422162\nSGD R2  (train) =  0.9348553744410957\nSGD MSE (test) =  2073.214663642216\nSGD R2  (test) =  0.8926805023035312\n"
     ]
    }
   ],
   "source": [
    "CrossValidation(SGD, MSE_l1, data_train_features[:1000], data_train_target[:1000], alpha, beta=None, gamma=None)"
   ]
  },
  {
   "cell_type": "code",
   "execution_count": 44,
   "metadata": {},
   "outputs": [
    {
     "output_type": "stream",
     "name": "stdout",
     "text": [
      "\nW SGD (MSE_l2) =  [0.9806294278036679, 0.9642279547393404, -0.045983157752615834, 0.03623536775029057, 0.9999333368553035, 0.999916557827573]\nSGD MSE (train) =  2073.20945248313\nSGD R2  (train) =  0.9348567142910585\nSGD MSE (test) =  2073.2094524831314\nSGD R2  (test) =  0.8926832589218426\n"
     ]
    }
   ],
   "source": [
    "CrossValidation(SGD, MSE_l2, data_train_features[:1000], data_train_target[:1000], alpha=0.5)"
   ]
  },
  {
   "cell_type": "code",
   "execution_count": 45,
   "metadata": {},
   "outputs": [
    {
     "output_type": "stream",
     "name": "stdout",
     "text": [
      "\nW AdaGrad (MSE_l1) =  [0.01283841753336143, 0.012894925337333382, 0.0025341001248489563, 0.004634246959757451, -0.004999999999371232, -0.014153528567801523]\nAdaGrad MSE (train) =  2008.6101061069999\nAdaGrad R2  (train) =  0.9916135406324095\nAdaGrad MSE (test) =  2008.6101061069985\nAdaGrad R2  (test) =  0.9534155674793631\n"
     ]
    }
   ],
   "source": [
    "CrossValidation(AdaGrad, MSE_l1, data_train_features[:1000], data_train_target[:1000], alpha=0.9)"
   ]
  },
  {
   "cell_type": "code",
   "execution_count": 46,
   "metadata": {},
   "outputs": [
    {
     "output_type": "stream",
     "name": "stdout",
     "text": [
      "\nW AdaGrad (MSE_l2) =  [0.01284695009369142, 0.012899426459130694, 0.002534079876109576, 0.0046342291489263835, 0.035910124483830075, -0.012707697146466907]\nAdaGrad MSE (train) =  2008.610421869816\nAdaGrad R2  (train) =  0.9916135627399285\nAdaGrad MSE (test) =  2008.6104218698154\nAdaGrad R2  (test) =  0.9534152973564417\n"
     ]
    }
   ],
   "source": [
    "CrossValidation(AdaGrad, MSE_l2, data_train_features[:1000], data_train_target[:1000], alpha=0.9)"
   ]
  },
  {
   "cell_type": "code",
   "execution_count": 47,
   "metadata": {},
   "outputs": [
    {
     "output_type": "stream",
     "name": "stdout",
     "text": [
      "\nW RMSProp (MSE_l1) =  [-0.13338628345341777, 0.02823915908127107, -0.043202102209834704, 0.05091191647403748, -0.0004999951861083364, -0.2996932807943412]\nRMSProp MSE (train) =  1918.9718909750045\nRMSProp R2  (train) =  0.9353786305784725\nRMSProp MSE (test) =  1918.9718909750034\nRMSProp R2  (test) =  0.8651547223215245\n"
     ]
    }
   ],
   "source": [
    "CrossValidation(RMSProp, MSE_l1, data_train_features[:1000], data_train_target[:1000], alpha=0.5)"
   ]
  },
  {
   "cell_type": "code",
   "execution_count": 48,
   "metadata": {},
   "outputs": [
    {
     "output_type": "stream",
     "name": "stdout",
     "text": [
      "\nW RMSProp (MSE_l2) =  [-0.13329383207825635, 0.02834872417466955, -0.043203303244974754, 0.05091179303308062, -0.0004999999681632409, -0.22174037927381568]\nRMSProp MSE (train) =  1918.979207445915\nRMSProp R2  (train) =  0.9353812053271291\nRMSProp MSE (test) =  1918.9792074459133\nRMSProp R2  (test) =  0.8651590345051391\n"
     ]
    }
   ],
   "source": [
    "CrossValidation(RMSProp, MSE_l2, data_train_features[:1000], data_train_target[:1000], alpha=0.8)"
   ]
  },
  {
   "cell_type": "code",
   "execution_count": 49,
   "metadata": {},
   "outputs": [
    {
     "output_type": "stream",
     "name": "stdout",
     "text": [
      "\nW Adam (MSE_l1) =  [-0.02157389768030381, -0.017688393911576377, -0.04187885699729514, 0.04889887943799223, -0.000661841787273847, -0.05931671710619311]\nAdam MSE (train) =  1919.6278185227172\nAdam R2  (train) =  0.9412147632619063\nAdam MSE (test) =  1919.627818522718\nAdam R2  (test) =  0.8794860037475056\n"
     ]
    }
   ],
   "source": [
    "CrossValidation(Adam, MSE_l1, data_train_features[:1000], data_train_target[:1000], alpha=0.5)"
   ]
  },
  {
   "cell_type": "code",
   "execution_count": 50,
   "metadata": {},
   "outputs": [
    {
     "output_type": "stream",
     "name": "stdout",
     "text": [
      "\nW Adam (MSE_l2) =  [-0.02163097536068504, -0.017722661305183927, -0.04187887558975095, 0.048899407390149495, -0.0005386130328077857, -0.1055236501210488]\nAdam MSE (train) =  1919.6239162250993\nAdam R2  (train) =  0.9412127260336955\nAdam MSE (test) =  1919.6239162250974\nAdam R2  (test) =  0.8794828844260352\n"
     ]
    }
   ],
   "source": [
    "CrossValidation(Adam, MSE_l2, data_train_features[:1000], data_train_target[:1000], alpha=0.9)"
   ]
  }
 ]
}