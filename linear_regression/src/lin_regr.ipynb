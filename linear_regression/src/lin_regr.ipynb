{
 "metadata": {
  "language_info": {
   "codemirror_mode": {
    "name": "ipython",
    "version": 3
   },
   "file_extension": ".py",
   "mimetype": "text/x-python",
   "name": "python",
   "nbconvert_exporter": "python",
   "pygments_lexer": "ipython3",
   "version": "3.8.3-final"
  },
  "orig_nbformat": 2,
  "kernelspec": {
   "name": "python3",
   "display_name": "Python 3"
  }
 },
 "nbformat": 4,
 "nbformat_minor": 2,
 "cells": [
  {
   "cell_type": "code",
   "execution_count": 1,
   "metadata": {},
   "outputs": [],
   "source": [
    "import csv\n",
    "import math\n",
    "import os\n",
    "from copy import copy, deepcopy"
   ]
  },
  {
   "cell_type": "code",
   "execution_count": 1,
   "metadata": {},
   "outputs": [],
   "source": [
    "notebook_path = os.path.abspath(os.path.join(os.path.dirname(os.path.abspath(\"lin_regr.ipynb\")), os.pardir))\n",
    "data_folder = \"/data/\""
   ]
  },
  {
   "cell_type": "code",
   "execution_count": 3,
   "metadata": {},
   "outputs": [],
   "source": [
    "airline_delay_causes = []\n",
    "columns = []\n",
    "target_variable = \"DEP_DELAY\"\n",
    "target_col = []"
   ]
  },
  {
   "cell_type": "code",
   "execution_count": 4,
   "metadata": {},
   "outputs": [],
   "source": [
    "with open(notebook_path+data_folder+'2017.csv', newline='\\n') as csv_file:\n",
    "\tcsv_reader = csv.reader(csv_file, delimiter=',')\n",
    "\tline_count = 0\n",
    "\tfor row in csv_reader:\n",
    "\t\tif line_count == 0:\n",
    "\t\t\tcolumns = row.copy()\n",
    "\t\t\tline_count += 1\n",
    "\t\telse:\n",
    "\t\t\tairline_delay_causes.append(row)\n",
    "\t\t\tline_count += 1"
   ]
  },
  {
   "cell_type": "code",
   "execution_count": 5,
   "metadata": {},
   "outputs": [],
   "source": [
    "target_index = 11\n",
    "# features = [1, 2, 9, 10, 12, 17, 19, 25, 26, 27, 28, 29]\n",
    "features = [9, 25, 29]\n",
    "data_train_features = []\n",
    "data_train_target = []\n",
    "for row in airline_delay_causes:\n",
    "\ttmp = []\n",
    "\tfor col in features:\n",
    "\t\tif row[col] == \"\":\n",
    "\t\t\tbreak\n",
    "\t\telse:\n",
    "\t\t\ttmp.append(float(row[col]))\n",
    "\tif len(tmp) == len(features):\n",
    "\t\tdata_train_features.append(tmp)\n",
    "\t\tdata_train_target.append(float(row[target_index]))"
   ]
  },
  {
   "cell_type": "code",
   "execution_count": 6,
   "metadata": {},
   "outputs": [],
   "source": [
    "def norm(V):\n",
    "    ans = 0\n",
    "    for i in V:\n",
    "        ans += i**2\n",
    "    return math.sqrt(ans)\n",
    "\n",
    "def sumvc(X, a):\n",
    "    ans = X.copy()\n",
    "    for i in range(len(X)):\n",
    "        ans[i] += a\n",
    "    return ans\n",
    "\n",
    "def sumvv(X, Y):\n",
    "    if len(X) != len(Y):\n",
    "        raise Exception(\"Len of vectors should be same!\")\n",
    "    ans = X.copy()\n",
    "    for i in range(len(Y)):\n",
    "        ans[i] += Y[i]\n",
    "    return ans\n",
    "\n",
    "def subvc(X, a):\n",
    "    ans = X.copy()\n",
    "    for i in range(len(X)):\n",
    "        ans[i] -= a\n",
    "    return ans\n",
    "\n",
    "def subvv(X, Y):\n",
    "    if len(X) != len(Y):\n",
    "        raise Exception(\"Len of vectors should be same!\")\n",
    "    ans = X.copy()\n",
    "    for i in range(len(Y)):\n",
    "        ans[i] -= Y[i]\n",
    "    return ans\n",
    "\n",
    "def multvc(X, c):\n",
    "    ans = X.copy()\n",
    "    for i in range(len(X)):\n",
    "        ans[i] *= c\n",
    "    return ans\n",
    "\n",
    "def multvv(X, Y):\n",
    "    if len(X) != len(Y):\n",
    "        raise Exception(\"Len of vectors should be same!\")\n",
    "    ans = X.copy()\n",
    "    for i in range(len(Y)):\n",
    "        ans[i] *= Y[i]\n",
    "    return ans\n",
    "\n",
    "def dotvv(X, Y):\n",
    "    if len(X) != len(Y):\n",
    "        raise Exception(\"Len of vectors should be same!\")\n",
    "    ans = 0\n",
    "    for i in range(len(X)):\n",
    "        ans += X[i] * Y[i]\n",
    "    return ans\n",
    "\n",
    "def summc(A, c):\n",
    "    if len(A) == 0:\n",
    "        return []\n",
    "    rows_A = len(A)\n",
    "    cols_A = len(A[0])\n",
    "    ans = [[0 for row in range(cols_A)] for col in range(rows_A)]\n",
    "    for i in range(rows_A):\n",
    "        for j in range(cols_A):\n",
    "            ans[i][j] = A[i][j] + c\n",
    "    return ans\n",
    "\n",
    "def summm(A, B):\n",
    "    if len(A) == 0 or len(B) == 0:\n",
    "        return []\n",
    "    if len(A) != len(B) or len(A[0]) != len(B[0]):\n",
    "        raise Exception(\"Dim of matrix should be same!\")\n",
    "    rows_A = len(A)\n",
    "    cols_B = len(B[0])\n",
    "    ans = [[0 for row in range(cols_B)] for col in range(rows_A)]\n",
    "    for i in range(rows_A):\n",
    "        for j in range(cols_B):\n",
    "            ans[i][j] = A[i][j] + B[i][j]\n",
    "    return ans\n",
    "\n",
    "def submc(A, c):\n",
    "    if len(A) == 0:\n",
    "        return []\n",
    "    rows_A = len(A)\n",
    "    cols_A = len(A[0])\n",
    "    ans = [[0 for row in range(cols_A)] for col in range(rows_A)]\n",
    "    for i in range(rows_A):\n",
    "        for j in range(cols_A):\n",
    "            ans[i][j] = A[i][j] - c\n",
    "    return ans\n",
    "\n",
    "def submm(A, B):\n",
    "    if len(A) == 0 or len(B) == 0:\n",
    "        return []\n",
    "    if len(A) != len(B) or len(A[0]) != len(B[0]):\n",
    "        raise Exception(\"Dim of matrix should be same!\")\n",
    "    rows_A = len(A)\n",
    "    cols_B = len(B[0])\n",
    "    ans = [[0 for row in range(cols_B)] for col in range(rows_A)]\n",
    "    for i in range(rows_A):\n",
    "        for j in range(cols_B):\n",
    "            ans[i][j] = A[i][j] - B[i][j]\n",
    "    return ans\n",
    "\n",
    "def multmc(A, c):\n",
    "    if len(A) == 0:\n",
    "        return []\n",
    "    rows_A = len(A)\n",
    "    cols_A = len(A[0])\n",
    "    ans = [[0 for col in range(cols_A)] for row in range(rows_A)]\n",
    "    for i in range(rows_A):\n",
    "        for j in range(cols_A):\n",
    "            ans[i][j] = A[i][j] * c\n",
    "    return ans\n",
    "\n",
    "def multmv(A, V):\n",
    "    if len(A) == 0:\n",
    "        return []\n",
    "    rows_A = len(A)\n",
    "    cols_A = len(A[0])\n",
    "    rows_V = len(V)\n",
    "    if cols_A != rows_V:\n",
    "        raise Exception(\"Cannot multiply the matrix and vector. Incorrect dimensions.\")\n",
    "    ans = [0 for row in range(rows_A)]\n",
    "    for i in range(rows_A):\n",
    "        for j in range(cols_A):\n",
    "            ans[i] += A[i][j] * V[j]\n",
    "    return ans\n",
    "\n",
    "def multmm(A, B):\n",
    "    if len(A) == 0 or len(B) == 0:\n",
    "        return []\n",
    "    rows_A = len(A)\n",
    "    cols_A = len(A[0])\n",
    "    rows_B = len(B)\n",
    "    cols_B = len(B[0])\n",
    "    if cols_A != rows_B:\n",
    "        raise Exception(\"Cannot multiply the two matrices. Incorrect dimensions.\")\n",
    "    ans = [[0 for row in range(cols_B)] for col in range(rows_A)]\n",
    "    for i in range(rows_A):\n",
    "        for j in range(cols_B):\n",
    "            for k in range(cols_A):\n",
    "                ans[i][j] += A[i][k] * B[k][j]\n",
    "    return ans\n",
    "\n",
    "def decvc(V, c):\n",
    "    ans = V.copy()\n",
    "    for i in range(len(V)):\n",
    "        ans[i] /= c\n",
    "    return ans\n",
    "\n",
    "def decvv(V, W):\n",
    "    ans = V.copy()\n",
    "    for i in range(len(V)):\n",
    "        ans[i] /= W[i]\n",
    "    return ans\n",
    "\n",
    "def sqrtv(V):\n",
    "    ans = V.copy()\n",
    "    for i in range(len(V)):\n",
    "        ans[i] = math.sqrt(ans[i])\n",
    "    return ans\n",
    "\n",
    "def powv(V, s):\n",
    "    if s == 0:\n",
    "        return [1 for el in range(len(V))]\n",
    "    tmp = powv(V, int(s/2))\n",
    "    if s % 2 == 0:\n",
    "        return multvv(tmp, tmp)\n",
    "    else:\n",
    "        return multvv(multvv(tmp, tmp), V)"
   ]
  },
  {
   "cell_type": "code",
   "execution_count": 7,
   "metadata": {},
   "outputs": [],
   "source": [
    "def MSE(W, X, Y):\n",
    "    if len(X[0]) != len(W) or len(X) != len(Y):\n",
    "        raise Exception(\"Len of vectors should be same!\")\n",
    "    ans = 0\n",
    "    for i in range(len(X)):\n",
    "        ans += ((dotvv(W, X[i]) - Y[i])**2)/len(X)\n",
    "    return ans"
   ]
  },
  {
   "cell_type": "code",
   "execution_count": 8,
   "metadata": {},
   "outputs": [],
   "source": [
    "def R2(W, X, Y):\n",
    "\tif len(X[0]) != len(W) or len(X) != len(Y):\n",
    "\t\traise Exception(\"Len of vectors should be same!\")\n",
    "\tym = sum(Y)/len(Y)\n",
    "\tSSreg = 0\n",
    "\tfor i in range(len(X)):\n",
    "\t\tSSreg += (dotvv(W, X[i]) - ym)**2\n",
    "\tSStot = 0\n",
    "\tfor i in range(len(Y)):\n",
    "\t\tSStot += (Y[i] - ym)**2\n",
    "\treturn 1 - (SSreg / SStot)"
   ]
  },
  {
   "cell_type": "code",
   "execution_count": 9,
   "metadata": {},
   "outputs": [],
   "source": [
    "def grad(fun, h, W, X, Y):\n",
    "\tcol_X = len(X[0])\n",
    "\tans = [0 for i in range(col_X)]\n",
    "\tWn = W.copy()\n",
    "\tfor i in range(col_X):\n",
    "\t\tWn[i] += h\n",
    "\t\tans[i] = (MSE(Wn, X, Y) - MSE(W, X, Y))/h\n",
    "\t\tWn[i] -= h\n",
    "\treturn ans"
   ]
  },
  {
   "cell_type": "code",
   "execution_count": 10,
   "metadata": {},
   "outputs": [],
   "source": [
    "def LeastSquareMethod(A, y):\n",
    "    col_A = len(A[0])\n",
    "    W = [1. for row in range(col_A)]\n",
    "    step = 1e-8\n",
    "    h = 1e-8\n",
    "    L = 0\n",
    "    Lnew = MSE(W, A, y)\n",
    "    num_steps = 200\n",
    "    while abs(L - Lnew) > 1e-6 and num_steps > 0:\n",
    "        L = Lnew\n",
    "        W = subvv(W, multvc(grad(MSE, h, W, A, y), step))\n",
    "        Lnew = MSE(W, A, y)\n",
    "        num_steps -= 1\n",
    "    return W"
   ]
  },
  {
   "cell_type": "code",
   "execution_count": 11,
   "metadata": {},
   "outputs": [],
   "source": [
    "def SGD(A, y):\n",
    "\tcol_A = len(A[0])\n",
    "\tW = [1. for row in range(col_A)]\n",
    "\tstep = 1e-8\n",
    "\th = 1e-8\n",
    "\tL = 0\n",
    "\tLnew = MSE(W, A, y)\n",
    "\tnum_steps = 50\n",
    "\twhile abs(L - Lnew) > 1e-5 and num_steps > 0:\n",
    "\t\tfor i in range(len(A)):\n",
    "\t\t\tL = Lnew\n",
    "\t\t\tW = subvv(W, multvc(grad(MSE, h, W, [A[i]], [y[i]]), step))\n",
    "\t\t\tLnew = MSE(W, A, y)\n",
    "\t\tnum_steps -= 1\n",
    "\treturn W"
   ]
  },
  {
   "source": [
    "def AdaGrad(A, y):\n",
    "\tcol_A = len(A[0])\n",
    "\tW = [1. for row in range(col_A)]\n",
    "\tstep = 1e-1\n",
    "\th = 1e-2\n",
    "\teps = 1\n",
    "\tL = MSE(W, A, y)\n",
    "\tGnii = [0 for i in range(col_A)]\n",
    "\ttemp = grad(MSE, h, W, A, y)\n",
    "\tfor i in range(col_A):\n",
    "\t\tGnii[i] = (temp[i])**2\n",
    "\t\tW[i] -= step*temp[i]/math.sqrt(Gnii[i] + eps)\n",
    "\tLnew = MSE(W, A, y)\n",
    "\tnum_steps = 2500\n",
    "\twhile abs(L - Lnew) > 1e-1 and num_steps > 0:\n",
    "\t\tL = Lnew\n",
    "\t\ttemp = grad(MSE, h, W, A, y)\n",
    "\t\tfor i in range(col_A):\n",
    "\t\t\tGnii[i] += (temp[i])**2\n",
    "\t\t\tW[i] -= step*temp[i]/math.sqrt(Gnii[i] + eps)\n",
    "\t\tLnew = MSE(W, A, y)\n",
    "\t\tnum_steps -= 1\n",
    "\treturn W"
   ],
   "cell_type": "code",
   "metadata": {},
   "execution_count": 20,
   "outputs": []
  },
  {
   "cell_type": "code",
   "execution_count": 18,
   "metadata": {},
   "outputs": [],
   "source": [
    "def RMSProp(A, y, gamma=0.5):\n",
    "    col_A = len(A[0])\n",
    "    W = [1. for row in range(col_A)]\n",
    "    step = 1e-3\n",
    "    h = 1e-3\n",
    "    eps = 1e-3\n",
    "    L = MSE(W, A, y)\n",
    "    Eg = 0\n",
    "    tmp = 0\n",
    "    tmpnew = grad(MSE, h, W, A, y)\n",
    "    Eg = multvc(powv(tmpnew, 2), 1-gamma)\n",
    "    W = subvv(W, decvv(multvc(tmpnew, step), sqrtv(sumvc(Eg, eps))))\n",
    "    Lnew = MSE(W, A, y)\n",
    "    num_steps = 3500\n",
    "    while abs(L - Lnew) > 1e-2 and num_steps > 0:\n",
    "        L = Lnew\n",
    "        tmp = tmpnew\n",
    "        tmpnew = grad(MSE, h, W, A, y)\n",
    "        Eg = sumvv(multvc(powv(tmp, 2), gamma), multvc(powv(tmpnew, 2), 1-gamma))\n",
    "        W = subvv(W, decvv(multvc(tmpnew, step), sqrtv(sumvc(Eg, eps))))\n",
    "        Lnew = MSE(W, A, y)\n",
    "        num_steps -= 1\n",
    "    return W"
   ]
  },
  {
   "cell_type": "code",
   "execution_count": 27,
   "metadata": {},
   "outputs": [],
   "source": [
    "def Adam(A, y, gamma=0.9, beta=[0.95, 0.95]):\n",
    "\tcol_A = len(A[0])\n",
    "\tW =[1. for row in range(col_A)]\n",
    "\tstep = 1e-4\n",
    "\th = 1e-3\n",
    "\teps = 1e-3\n",
    "\tL = 0\n",
    "\tLnew = MSE(W, A, y)\n",
    "\ttmp = grad(MSE, h, W, A, y)\n",
    "\tmt = multvc(tmp, 1-beta[0])\n",
    "\t_mt = decvc(mt, 1-beta[0])\n",
    "\tvt = multvc(powv(tmp, 2), 1-beta[1])\n",
    "\t_vt = decvc(vt, 1-beta[1])\n",
    "\tW = subvv(W, decvv(multvc(_mt, step), sqrtv(sumvc(_vt, eps))))\n",
    "\tL = Lnew\n",
    "\tLnew = MSE(W, A, y)\n",
    "\tnum_steps = 4000\n",
    "\twhile abs(L - Lnew) > 1e-3 and num_steps > 0:\n",
    "\t\tL = Lnew\n",
    "\t\ttmp = grad(MSE, h, W, A, y)\n",
    "\t\tmt = sumvv(multvc(mt, beta[0]), multvc(tmp, 1-beta[0]))\n",
    "\t\t_mt = decvc(mt, 1-beta[0])\n",
    "\t\tvt = sumvv(multvc(vt, beta[1]), multvc(powv(tmp, 2), 1-beta[1]))\n",
    "\t\t_vt = decvc(vt, 1-beta[1])\n",
    "\t\tW = subvv(W, decvv(multvc(_mt, step), sqrtv(sumvc(_vt, eps))))\n",
    "\t\tLnew = MSE(W, A, y)\n",
    "\t\tnum_steps -= 1\n",
    "\treturn W"
   ]
  },
  {
   "cell_type": "code",
   "execution_count": 14,
   "metadata": {
    "tags": []
   },
   "outputs": [
    {
     "output_type": "stream",
     "name": "stdout",
     "text": [
      "\nW (LSM) =  [0.013724120248753024, 0.9907197258683027, 0.9753648554094525]\nLSM MSE (train) =  1957.3957065015277\nLSM R2  (train) =  0.1596560069216585\nLSM MSE (test) =  601.4375092979024\nLSM R2  (test) =  0.10267201576114804\n"
     ]
    }
   ],
   "source": [
    "W = LeastSquareMethod(data_train_features[:1000], data_train_target[:1000])\n",
    "print(\"\\nW (LSM) = \", W)\n",
    "print(\"LSM MSE (train) = \", MSE(W, data_train_features[:1000], data_train_target[:1000]))\n",
    "print(\"LSM R2  (train) = \", R2(W, data_train_features[:1000], data_train_target[:1000]))\n",
    "print(\"LSM MSE (test) = \", MSE(W, data_train_features[1000:2000], data_train_target[1000:2000]))\n",
    "print(\"LSM R2  (test) = \", R2(W, data_train_features[1000:2000], data_train_target[1000:2000]))"
   ]
  },
  {
   "cell_type": "code",
   "execution_count": 20,
   "metadata": {},
   "outputs": [
    {
     "output_type": "stream",
     "name": "stdout",
     "text": [
      "\nW (SGD) =  [0.011597486216464739, 0.962417503753627, 0.9635366294544346]\nSGD MSE (train) =  1971.866598471285\nSGD R2  (train) =  0.18567889133635362\nSGD MSE (test) =  550.3880396027234\nSGD R2  (test) =  0.15129692712934517\n"
     ]
    }
   ],
   "source": [
    "W = SGD(data_train_features[:1000], data_train_target[:1000])\n",
    "print(\"\\nW (SGD) = \", W)\n",
    "print(\"SGD MSE (train) = \", MSE(W, data_train_features[:1000], data_train_target[:1000]))\n",
    "print(\"SGD R2  (train) = \", R2(W, data_train_features[:1000], data_train_target[:1000]))\n",
    "print(\"SGD MSE (test) = \", MSE(W, data_train_features[1000:2000], data_train_target[1000:2000]))\n",
    "print(\"SGD R2  (test) = \", R2(W, data_train_features[1000:2000], data_train_target[1000:2000]))"
   ]
  },
  {
   "cell_type": "code",
   "execution_count": 21,
   "metadata": {},
   "outputs": [
    {
     "output_type": "stream",
     "name": "stdout",
     "text": [
      "\nW (AdaGrad) =  [0.010389103142406984, 0.9472136142063095, 0.9337352738430533]\nAdaGrad MSE (train) =  2017.5507011309812\nAdaGrad R2  (train) =  0.22331541516980735\nAdaGrad MSE (test) =  543.7920736730596\nAdaGrad R2  (test) =  0.188470941943237\n"
     ]
    }
   ],
   "source": [
    "W = AdaGrad(data_train_features[:1000], data_train_target[:1000])\n",
    "print(\"\\nW (AdaGrad) = \", W)\n",
    "print(\"AdaGrad MSE (train) = \", MSE(W, data_train_features[:1000], data_train_target[:1000]))\n",
    "print(\"AdaGrad R2  (train) = \", R2(W, data_train_features[:1000], data_train_target[:1000]))\n",
    "print(\"AdaGrad MSE (test) = \", MSE(W, data_train_features[1000:2000], data_train_target[1000:2000]))\n",
    "print(\"AdaGrad R2  (test) = \", R2(W, data_train_features[1000:2000], data_train_target[1000:2000]))"
   ]
  },
  {
   "cell_type": "code",
   "execution_count": 19,
   "metadata": {},
   "outputs": [
    {
     "output_type": "stream",
     "name": "stdout",
     "text": [
      "\nW (RMSProp) =  [0.012906292593697863, 0.9601072131389291, 0.9739980460597351]\nRMSProp MSE (train) =  1957.3283473464203\nRMSProp R2  (train) =  0.1758587911345253\nRMSProp MSE (test) =  577.5070306049705\nRMSProp R2  (test) =  0.14401052531436365\n"
     ]
    }
   ],
   "source": [
    "W = RMSProp(data_train_features[:1000], data_train_target[:1000])\n",
    "print(\"\\nW (RMSProp) = \", W)\n",
    "print(\"RMSProp MSE (train) = \", MSE(W, data_train_features[:1000], data_train_target[:1000]))\n",
    "print(\"RMSProp R2  (train) = \", R2(W, data_train_features[:1000], data_train_target[:1000]))\n",
    "print(\"RMSProp MSE (test) = \", MSE(W, data_train_features[1000:2000], data_train_target[1000:2000]))\n",
    "print(\"RMSProp R2  (test) = \", R2(W, data_train_features[1000:2000], data_train_target[1000:2000]))"
   ]
  },
  {
   "cell_type": "code",
   "execution_count": 31,
   "metadata": {},
   "outputs": [
    {
     "output_type": "stream",
     "name": "stdout",
     "text": [
      "\nW (Adam) =  [0.225990686292005, 0.2261867190555661, 0.22614563066087676]\nAdam MSE (train) =  93228.74027138193\nAdam R2  (train) =  -8.568488634117097\nAdam MSE (test) =  98369.87465848193\nAdam R2  (test) =  -14.694846543848852\n"
     ]
    }
   ],
   "source": [
    "W = Adam(data_train_features[:1000], data_train_target[:1000], gamma=0.85, beta=[0.8, 0.85])\n",
    "print(\"\\nW (Adam) = \", W)\n",
    "print(\"Adam MSE (train) = \", MSE(W, data_train_features[:1000], data_train_target[:1000]))\n",
    "print(\"Adam R2  (train) = \", R2(W, data_train_features[:1000], data_train_target[:1000]))\n",
    "print(\"Adam MSE (test) = \", MSE(W, data_train_features[1000:2000], data_train_target[1000:2000]))\n",
    "print(\"Adam R2  (test) = \", R2(W, data_train_features[1000:2000], data_train_target[1000:2000]))"
   ]
  },
  {
   "cell_type": "code",
   "execution_count": null,
   "metadata": {},
   "outputs": [],
   "source": []
  }
 ]
}