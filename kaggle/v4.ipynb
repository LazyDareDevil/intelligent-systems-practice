{
 "metadata": {
  "language_info": {
   "codemirror_mode": {
    "name": "ipython",
    "version": 3
   },
   "file_extension": ".py",
   "mimetype": "text/x-python",
   "name": "python",
   "nbconvert_exporter": "python",
   "pygments_lexer": "ipython3",
   "version": "3.7.9-final"
  },
  "orig_nbformat": 2,
  "kernelspec": {
   "name": "python3",
   "display_name": "Python 3.7.9 64-bit",
   "metadata": {
    "interpreter": {
     "hash": "0212d5ff4b8771cbbddceda0db5d3063f207e2a10706dff6393fc3d51f8f323b"
    }
   }
  }
 },
 "nbformat": 4,
 "nbformat_minor": 2,
 "cells": [
  {
   "cell_type": "code",
   "execution_count": 1,
   "metadata": {},
   "outputs": [],
   "source": [
    "import numpy as np\n",
    "import pandas as pd\n",
    "from pathlib import Path\n",
    "import os\n",
    "        \n",
    "import matplotlib.pyplot as plt\n",
    "\n",
    "from sklearn.model_selection import train_test_split\n",
    "from sklearn.metrics import mean_squared_error"
   ]
  },
  {
   "cell_type": "code",
   "execution_count": 2,
   "metadata": {},
   "outputs": [],
   "source": [
    "notebook_path = os.path.dirname(os.path.abspath(\"v4.ipynb\"))+\"\\\\\"\n",
    "input_path = notebook_path + 'input\\\\'"
   ]
  },
  {
   "cell_type": "code",
   "execution_count": 3,
   "metadata": {},
   "outputs": [],
   "source": [
    "train = pd.read_csv(input_path + 'train.csv', index_col='id')\n",
    "test = pd.read_csv(input_path + 'test.csv', index_col='id')\n",
    "train, X_test, y_train, y_test = train_test_split(train, train['target'], train_size=0.60)\n",
    "X_test.drop(columns=['target'], inplace=True)"
   ]
  },
  {
   "cell_type": "code",
   "execution_count": 4,
   "metadata": {},
   "outputs": [],
   "source": [
    "for i in list(train.index):\n",
    "    if train['target'][i] < 5.5 or train['target'][i] > 10:\n",
    "        train.drop(i, inplace=True)"
   ]
  },
  {
   "cell_type": "code",
   "execution_count": 5,
   "metadata": {},
   "outputs": [],
   "source": [
    "y_train = train.pop(\"target\")\n",
    "X_train = train"
   ]
  },
  {
   "cell_type": "code",
   "execution_count": 6,
   "metadata": {},
   "outputs": [],
   "source": [
    "import xgboost as xgb"
   ]
  },
  {
   "source": [
    "objective ='reg:squarederror', reg_alpha=0.94, booster='dart', eta = 0.2, eval_metric = 'rmse', tree_method='hist'"
   ],
   "cell_type": "markdown",
   "metadata": {}
  },
  {
   "cell_type": "code",
   "execution_count": 8,
   "metadata": {},
   "outputs": [
    {
     "output_type": "stream",
     "name": "stdout",
     "text": [
      "RMSE: 0.699136\n"
     ]
    }
   ],
   "source": [
    "params={\n",
    " 'n_estimators': 300,\n",
    " 'subsample': 0.7,\n",
    " 'colsample_bytree': 0.7,\n",
    " 'eta': 0.03,\n",
    " 'max_depth': 11,\n",
    " 'min_child_weight': 10,\n",
    " 'tree_method':'gpu_hist'\n",
    "}\n",
    "model = xgb.XGBRegressor(**params)\n",
    "model.fit(X_train, y_train)\n",
    "preds = model.predict(X_test)\n",
    "rmse = np.sqrt(mean_squared_error(y_test, preds))\n",
    "print(\"RMSE: %f\" % (rmse))"
   ]
  },
  {
   "cell_type": "code",
   "execution_count": 9,
   "metadata": {},
   "outputs": [],
   "source": [
    "preds = model.predict(test)\n",
    "my_df = pd.DataFrame(list(test.index), columns=['id'])\n",
    "my_df['target'] = preds\n",
    "my_df.to_csv('sub.csv', index=False)"
   ]
  },
  {
   "source": [
    "Лучшая модель:"
   ],
   "cell_type": "markdown",
   "metadata": {}
  },
  {
   "cell_type": "code",
   "execution_count": 10,
   "metadata": {},
   "outputs": [
    {
     "output_type": "stream",
     "name": "stdout",
     "text": [
      "RMSE: 0.698928\n"
     ]
    }
   ],
   "source": [
    "params={\n",
    " 'objective': 'reg:squarederror',\n",
    " 'reg_alpha': 0.94,\n",
    " 'booster': 'dart',\n",
    " 'eval_metric': 'rmse',\n",
    " 'n_estimators': 300,\n",
    " 'subsample': 0.7,\n",
    " 'colsample_bytree': 0.7,\n",
    " 'eta': 0.03,\n",
    " 'max_depth': 11,\n",
    " 'min_child_weight': 10,\n",
    " 'tree_method':'gpu_hist'\n",
    "}\n",
    "model = xgb.XGBRegressor(**params)\n",
    "model.fit(X_train, y_train)\n",
    "preds = model.predict(X_test)\n",
    "rmse = np.sqrt(mean_squared_error(y_test, preds))\n",
    "print(\"RMSE: %f\" % (rmse))"
   ]
  },
  {
   "cell_type": "code",
   "execution_count": 11,
   "metadata": {},
   "outputs": [],
   "source": [
    "preds = model.predict(test)\n",
    "my_df = pd.DataFrame(list(test.index), columns=['id'])\n",
    "my_df['target'] = preds\n",
    "my_df.to_csv('sub.csv', index=False)"
   ]
  },
  {
   "cell_type": "code",
   "execution_count": 27,
   "metadata": {},
   "outputs": [
    {
     "output_type": "stream",
     "name": "stdout",
     "text": [
      "RMSE: 0.699356\n"
     ]
    }
   ],
   "source": [
    "params={\n",
    " 'objective': 'reg:squarederror',\n",
    " 'reg_alpha': 0.95,\n",
    " 'reg_lambda': 0.05,\n",
    " 'booster': 'dart',\n",
    " 'subsample': 0.7,\n",
    " 'colsample_bytree': 0.7,\n",
    " 'eval_metric': 'rmse',\n",
    " 'eta': 0.035,\n",
    " 'max_depth': 12,\n",
    " 'min_child_weight': 20,\n",
    " 'tree_method': 'gpu_hist',\n",
    " 'n_estimators': 300\n",
    "}\n",
    "model = xgb.XGBRegressor(**params)\n",
    "model.fit(X_train, y_train)\n",
    "preds = model.predict(X_test)\n",
    "rmse = np.sqrt(mean_squared_error(y_test, preds))\n",
    "print(\"RMSE: %f\" % (rmse))"
   ]
  },
  {
   "source": [
    "Попытка поработать с рандомным лесом, но безуспешная, для того, чтобы добиться хорошего результата, моих вычислительных мощностей недостаточно"
   ],
   "cell_type": "markdown",
   "metadata": {}
  },
  {
   "source": [
    "from sklearn.ensemble import RandomForestRegressor\n",
    "from sklearn.tree import export_graphviz\n",
    "import pydot"
   ],
   "cell_type": "markdown",
   "metadata": {}
  },
  {
   "source": [
    "regr = RandomForestRegressor(n_estimators = 500, max_depth=15, criterion='mse', min_samples_split=500, max_features='sqrt')\n",
    "regr.fit(X_train, y_train)\n",
    "preds = regr.predict(X_test)\n",
    "rmse = np.sqrt(mean_squared_error(y_test, preds))\n",
    "print(\"RMSE: %f\" % (rmse))"
   ],
   "cell_type": "markdown",
   "metadata": {}
  },
  {
   "source": [
    "tree = regr.estimators_[5]\n",
    "export_graphviz(tree, out_file = 'tree1.dot', feature_names = list(X_train.columns), rounded = True, precision = 1)\n",
    "(graph, ) = pydot.graph_from_dot_file('tree1.dot')\n",
    "graph.write_png('tree1.png')"
   ],
   "cell_type": "markdown",
   "metadata": {}
  },
  {
   "source": [
    "from sklearn.model_selection import GridSearchCV"
   ],
   "cell_type": "markdown",
   "metadata": {}
  },
  {
   "source": [
    "param_grid = {\n",
    "    'bootstrap': [True],\n",
    "    'max_depth': [10, 15],\n",
    "    'max_features': [2, 3],\n",
    "    'min_samples_leaf': [3, 5],\n",
    "    'min_samples_split': [8, 10],\n",
    "    'n_estimators': [100, 200]\n",
    "}"
   ],
   "cell_type": "markdown",
   "metadata": {}
  },
  {
   "source": [
    "rf = RandomForestRegressor()\n",
    "grid_search = GridSearchCV(estimator = rf, param_grid = param_grid, cv = 3, n_jobs = -1, verbose = 2)\n",
    "grid_search.fit(X_train, y_train)"
   ],
   "cell_type": "markdown",
   "metadata": {}
  },
  {
   "source": [
    "grid_search.best_params_"
   ],
   "cell_type": "markdown",
   "metadata": {}
  },
  {
   "source": [
    "best_grid = grid_search.best_estimator_\n",
    "preds = best_grid.predict(X_test)\n",
    "rmse = np.sqrt(mean_squared_error(y_test, preds))\n",
    "print(\"RMSE: %f\" % (rmse))"
   ],
   "cell_type": "markdown",
   "metadata": {}
  },
  {
   "source": [
    "preds = .predict(test)\n",
    "my_df = pd.DataFrame(list(test.index), columns=['id'])\n",
    "my_df['target'] = preds\n",
    "my_df.to_csv('sub.csv', index=False)"
   ],
   "cell_type": "markdown",
   "metadata": {}
  }
 ]
}