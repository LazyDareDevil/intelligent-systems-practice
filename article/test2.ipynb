{
 "metadata": {
  "language_info": {
   "codemirror_mode": {
    "name": "ipython",
    "version": 3
   },
   "file_extension": ".py",
   "mimetype": "text/x-python",
   "name": "python",
   "nbconvert_exporter": "python",
   "pygments_lexer": "ipython3",
   "version": "3.8.3-final"
  },
  "orig_nbformat": 2,
  "kernelspec": {
   "name": "python3",
   "display_name": "Python 3"
  }
 },
 "nbformat": 4,
 "nbformat_minor": 2,
 "cells": [
  {
   "cell_type": "code",
   "execution_count": 1,
   "metadata": {},
   "outputs": [
    {
     "output_type": "stream",
     "name": "stdout",
     "text": [
      "Requirement already satisfied: featexp in c:\\programming\\anaconda\\lib\\site-packages (0.0.7)\n",
      "Requirement already satisfied: pandas in c:\\programming\\anaconda\\lib\\site-packages (from featexp) (1.0.5)\n",
      "Requirement already satisfied: matplotlib in c:\\programming\\anaconda\\lib\\site-packages (from featexp) (3.2.2)\n",
      "Requirement already satisfied: numpy in c:\\programming\\anaconda\\lib\\site-packages (from featexp) (1.18.5)\n",
      "Requirement already satisfied: pytz>=2017.2 in c:\\programming\\anaconda\\lib\\site-packages (from pandas->featexp) (2020.1)\n",
      "Requirement already satisfied: python-dateutil>=2.6.1 in c:\\programming\\anaconda\\lib\\site-packages (from pandas->featexp) (2.8.1)\n",
      "Requirement already satisfied: cycler>=0.10 in c:\\programming\\anaconda\\lib\\site-packages (from matplotlib->featexp) (0.10.0)\n",
      "Requirement already satisfied: pyparsing!=2.0.4,!=2.1.2,!=2.1.6,>=2.0.1 in c:\\programming\\anaconda\\lib\\site-packages (from matplotlib->featexp) (2.4.7)\n",
      "Requirement already satisfied: kiwisolver>=1.0.1 in c:\\programming\\anaconda\\lib\\site-packages (from matplotlib->featexp) (1.2.0)\n",
      "Requirement already satisfied: six>=1.5 in c:\\users\\lazyd\\appdata\\roaming\\python\\python38\\site-packages (from python-dateutil>=2.6.1->pandas->featexp) (1.15.0)\n",
      "Requirement already satisfied: xgboost in c:\\programming\\anaconda\\lib\\site-packages (1.2.1)\n",
      "Requirement already satisfied: numpy in c:\\programming\\anaconda\\lib\\site-packages (from xgboost) (1.18.5)\n",
      "Requirement already satisfied: scipy in c:\\programming\\anaconda\\lib\\site-packages (from xgboost) (1.5.0)\n"
     ]
    }
   ],
   "source": [
    "! pip3 install featexp\n",
    "! pip3 install xgboost"
   ]
  },
  {
   "cell_type": "code",
   "execution_count": 2,
   "metadata": {},
   "outputs": [],
   "source": [
    "import pandas as pd\n",
    "import matplotlib.pyplot as plt\n",
    "import numpy as np\n",
    "import xgboost as xgb\n",
    "import os\n",
    "\n",
    "from sklearn.ensemble import RandomForestClassifier\n",
    "from sklearn.metrics import roc_auc_score\n",
    "from sklearn.model_selection import train_test_split\n",
    "\n",
    "# Local imports,\n",
    "from featexp import (\n",
    "    get_trend_stats, \n",
    "    get_univariate_plots, \n",
    "    univariate_plotter\n",
    ")"
   ]
  },
  {
   "cell_type": "code",
   "execution_count": 8,
   "metadata": {},
   "outputs": [
    {
     "output_type": "stream",
     "name": "stdout",
     "text": [
      "c:\\git\\intelligent-systems-practice\\article/home-credit-default-risk/application_train.csv\n"
     ]
    }
   ],
   "source": [
    "notebook_path = os.path.abspath(\"test.ipynb\")\n",
    "data_folder = \"/home-credit-default-risk/\"\n",
    "train_data_file = \"application_train.csv\"\n",
    "test_data_file = \"application_test.csv\"\n",
    "print(os.path.dirname(notebook_path) + data_folder + train_data_file)"
   ]
  },
  {
   "cell_type": "code",
   "execution_count": 20,
   "metadata": {},
   "outputs": [],
   "source": [
    "# Functions for data preprocessing.\n",
    "def get_nonull_dummy_data(application_train_raw, dummy_drop=[\"ORGANIZATION_TYPE\"]):\n",
    "    # Idenifying float cols with less nulls and imputing with mean.\n",
    "    nulls = pd.isnull(application_train_raw).sum()\n",
    "    less_nulls = nulls[(nulls < 3075) & (nulls != 0)].index\n",
    "    less_nulls_float = []\n",
    "    for i in range(len(less_nulls)):\n",
    "        if application_train_raw[less_nulls[i]].dtype != \"O\":\n",
    "            less_nulls_float.append(less_nulls[i])\n",
    "\n",
    "    application_train_raw[less_nulls_float] = application_train_raw[\n",
    "                                                less_nulls_float].fillna(application_train_raw[less_nulls_float].mean())\n",
    "\n",
    "    # Idenifying float cols with high nulls and creating null_flag \n",
    "    # column and imputing with min-10.\n",
    "    more_nulls = nulls[(nulls >= 3075)].index\n",
    "    more_nulls_float = []\n",
    "    for i in range(len(more_nulls)):\n",
    "        if application_train_raw[more_nulls[i]].dtype != \"O\":\n",
    "            more_nulls_float.append(more_nulls[i])\n",
    "\n",
    "    application_train_raw[more_nulls_float] = application_train_raw[\n",
    "                                                more_nulls_float].fillna(application_train_raw[more_nulls_float].min() - 100)\n",
    "\n",
    "    # Get dummies. Drop some columns for now.\n",
    "    try:\n",
    "        application_train_raw.drop(columns=dummy_drop, axis=1, inplace=True)  # Try using later.\n",
    "    except Exception:\n",
    "        pass\n",
    "\n",
    "    all_cols = application_train_raw.columns\n",
    "    cat_cols = []\n",
    "    for col in all_cols:\n",
    "        if application_train_raw[col].dtype == \"O\":\n",
    "            cat_cols.append(col)\n",
    "\n",
    "    application_train_raw = pd.get_dummies(application_train_raw, columns=cat_cols, dummy_na=True)\n",
    "\n",
    "    return application_train_raw"
   ]
  },
  {
   "cell_type": "code",
   "execution_count": 21,
   "metadata": {},
   "outputs": [],
   "source": [
    "def import_and_create_train_test_data(train_data_file, test_size=0.33, random_state=42):\n",
    "    application_raw = pd.read_csv(train_data_file)\n",
    "    application = get_nonull_dummy_data(application_raw, dummy_drop=[\"ORGANIZATION_TYPE\"])\n",
    "\n",
    "    X = application.drop([\"TARGET\"], axis=1)  # Contains ID.\n",
    "    y = application[\"TARGET\"]\n",
    "    X_train, X_test, y_train, y_test = train_test_split(X, y, test_size=test_size, random_state=random_state)\n",
    "\n",
    "    return (X_train, X_test, y_train, y_test)"
   ]
  },
  {
   "cell_type": "code",
   "execution_count": 22,
   "metadata": {},
   "outputs": [],
   "source": [
    "def import_and_create_TEST_data(test_data_file):\n",
    "    application_raw = pd.read_csv(test_data_file)\n",
    "    application = get_nonull_dummy_data(application_raw, dummy_drop=[\"ORGANIZATION_TYPE\"])\n",
    "    return application"
   ]
  },
  {
   "cell_type": "code",
   "execution_count": 23,
   "metadata": {},
   "outputs": [
    {
     "output_type": "error",
     "ename": "MemoryError",
     "evalue": "Unable to allocate 140. MiB for an array with shape (39999, 3678) and data type uint8",
     "traceback": [
      "\u001b[1;31m---------------------------------------------------------------------------\u001b[0m",
      "\u001b[1;31mMemoryError\u001b[0m                               Traceback (most recent call last)",
      "\u001b[1;32m<ipython-input-23-f6708c572a25>\u001b[0m in \u001b[0;36m<module>\u001b[1;34m\u001b[0m\n\u001b[0;32m      1\u001b[0m \u001b[0mX_train\u001b[0m\u001b[1;33m,\u001b[0m \u001b[0mX_test\u001b[0m\u001b[1;33m,\u001b[0m \u001b[0my_train\u001b[0m\u001b[1;33m,\u001b[0m \u001b[0my_tests\u001b[0m \u001b[1;33m=\u001b[0m \u001b[0mimport_and_create_train_test_data\u001b[0m\u001b[1;33m(\u001b[0m\u001b[0mos\u001b[0m\u001b[1;33m.\u001b[0m\u001b[0mpath\u001b[0m\u001b[1;33m.\u001b[0m\u001b[0mdirname\u001b[0m\u001b[1;33m(\u001b[0m\u001b[0mnotebook_path\u001b[0m\u001b[1;33m)\u001b[0m \u001b[1;33m+\u001b[0m                                                                                                          \u001b[0mdata_folder\u001b[0m \u001b[1;33m+\u001b[0m \u001b[0mtrain_data_file\u001b[0m\u001b[1;33m)\u001b[0m\u001b[1;33m\u001b[0m\u001b[1;33m\u001b[0m\u001b[0m\n\u001b[1;32m----> 2\u001b[1;33m \u001b[0mX_TEST\u001b[0m \u001b[1;33m=\u001b[0m \u001b[0mimport_and_create_TEST_data\u001b[0m\u001b[1;33m(\u001b[0m\u001b[0mos\u001b[0m\u001b[1;33m.\u001b[0m\u001b[0mpath\u001b[0m\u001b[1;33m.\u001b[0m\u001b[0mdirname\u001b[0m\u001b[1;33m(\u001b[0m\u001b[0mnotebook_path\u001b[0m\u001b[1;33m)\u001b[0m \u001b[1;33m+\u001b[0m \u001b[0mdata_folder\u001b[0m \u001b[1;33m+\u001b[0m \u001b[0mtest_data_file\u001b[0m\u001b[1;33m)\u001b[0m\u001b[1;33m\u001b[0m\u001b[1;33m\u001b[0m\u001b[0m\n\u001b[0m\u001b[0;32m      3\u001b[0m \u001b[1;33m\u001b[0m\u001b[0m\n\u001b[0;32m      4\u001b[0m \u001b[1;32mtry\u001b[0m\u001b[1;33m:\u001b[0m\u001b[1;33m\u001b[0m\u001b[1;33m\u001b[0m\u001b[0m\n\u001b[0;32m      5\u001b[0m     \u001b[0mdrop\u001b[0m\u001b[1;33m=\u001b[0m\u001b[1;33m[\u001b[0m\u001b[1;34m'CODE_GENDER_XNA'\u001b[0m\u001b[1;33m,\u001b[0m \u001b[1;34m'NAME_INCOME_TYPE_Maternity leave'\u001b[0m\u001b[1;33m,\u001b[0m \u001b[1;34m'NAME_FAMILY_STATUS_Unknown'\u001b[0m\u001b[1;33m,\u001b[0m \u001b[1;34m'SK_ID_CURR'\u001b[0m\u001b[1;33m]\u001b[0m\u001b[1;33m\u001b[0m\u001b[1;33m\u001b[0m\u001b[0m\n",
      "\u001b[1;32m<ipython-input-22-4fd6313fcabe>\u001b[0m in \u001b[0;36mimport_and_create_TEST_data\u001b[1;34m(test_data_file)\u001b[0m\n\u001b[0;32m      1\u001b[0m \u001b[1;32mdef\u001b[0m \u001b[0mimport_and_create_TEST_data\u001b[0m\u001b[1;33m(\u001b[0m\u001b[0mtest_data_file\u001b[0m\u001b[1;33m)\u001b[0m\u001b[1;33m:\u001b[0m\u001b[1;33m\u001b[0m\u001b[1;33m\u001b[0m\u001b[0m\n\u001b[0;32m      2\u001b[0m     \u001b[0mapplication_raw\u001b[0m \u001b[1;33m=\u001b[0m \u001b[0mpd\u001b[0m\u001b[1;33m.\u001b[0m\u001b[0mread_csv\u001b[0m\u001b[1;33m(\u001b[0m\u001b[0mtest_data_file\u001b[0m\u001b[1;33m)\u001b[0m\u001b[1;33m\u001b[0m\u001b[1;33m\u001b[0m\u001b[0m\n\u001b[1;32m----> 3\u001b[1;33m     \u001b[0mapplication\u001b[0m \u001b[1;33m=\u001b[0m \u001b[0mget_nonull_dummy_data\u001b[0m\u001b[1;33m(\u001b[0m\u001b[0mapplication_raw\u001b[0m\u001b[1;33m,\u001b[0m \u001b[0mdummy_drop\u001b[0m\u001b[1;33m=\u001b[0m\u001b[1;33m[\u001b[0m\u001b[1;34m\"ORGANIZATION_TYPE\"\u001b[0m\u001b[1;33m]\u001b[0m\u001b[1;33m)\u001b[0m\u001b[1;33m\u001b[0m\u001b[1;33m\u001b[0m\u001b[0m\n\u001b[0m\u001b[0;32m      4\u001b[0m     \u001b[1;32mreturn\u001b[0m \u001b[0mapplication\u001b[0m\u001b[1;33m\u001b[0m\u001b[1;33m\u001b[0m\u001b[0m\n",
      "\u001b[1;32m<ipython-input-20-546a7136478b>\u001b[0m in \u001b[0;36mget_nonull_dummy_data\u001b[1;34m(application_train_raw, dummy_drop)\u001b[0m\n\u001b[0;32m     35\u001b[0m             \u001b[0mcat_cols\u001b[0m\u001b[1;33m.\u001b[0m\u001b[0mappend\u001b[0m\u001b[1;33m(\u001b[0m\u001b[0mcol\u001b[0m\u001b[1;33m)\u001b[0m\u001b[1;33m\u001b[0m\u001b[1;33m\u001b[0m\u001b[0m\n\u001b[0;32m     36\u001b[0m \u001b[1;33m\u001b[0m\u001b[0m\n\u001b[1;32m---> 37\u001b[1;33m     \u001b[0mapplication_train_raw\u001b[0m \u001b[1;33m=\u001b[0m \u001b[0mpd\u001b[0m\u001b[1;33m.\u001b[0m\u001b[0mget_dummies\u001b[0m\u001b[1;33m(\u001b[0m\u001b[0mapplication_train_raw\u001b[0m\u001b[1;33m,\u001b[0m \u001b[0mcolumns\u001b[0m\u001b[1;33m=\u001b[0m\u001b[0mcat_cols\u001b[0m\u001b[1;33m,\u001b[0m \u001b[0mdummy_na\u001b[0m\u001b[1;33m=\u001b[0m\u001b[1;32mTrue\u001b[0m\u001b[1;33m)\u001b[0m\u001b[1;33m\u001b[0m\u001b[1;33m\u001b[0m\u001b[0m\n\u001b[0m\u001b[0;32m     38\u001b[0m \u001b[1;33m\u001b[0m\u001b[0m\n\u001b[0;32m     39\u001b[0m     \u001b[1;32mreturn\u001b[0m \u001b[0mapplication_train_raw\u001b[0m\u001b[1;33m\u001b[0m\u001b[1;33m\u001b[0m\u001b[0m\n",
      "\u001b[1;32mC:\\Programming\\Anaconda\\lib\\site-packages\\pandas\\core\\reshape\\reshape.py\u001b[0m in \u001b[0;36mget_dummies\u001b[1;34m(data, prefix, prefix_sep, dummy_na, columns, sparse, drop_first, dtype)\u001b[0m\n\u001b[0;32m    913\u001b[0m         \u001b[1;32mfor\u001b[0m \u001b[1;33m(\u001b[0m\u001b[0mcol\u001b[0m\u001b[1;33m,\u001b[0m \u001b[0mpre\u001b[0m\u001b[1;33m,\u001b[0m \u001b[0msep\u001b[0m\u001b[1;33m)\u001b[0m \u001b[1;32min\u001b[0m \u001b[0mzip\u001b[0m\u001b[1;33m(\u001b[0m\u001b[0mdata_to_encode\u001b[0m\u001b[1;33m.\u001b[0m\u001b[0mitems\u001b[0m\u001b[1;33m(\u001b[0m\u001b[1;33m)\u001b[0m\u001b[1;33m,\u001b[0m \u001b[0mprefix\u001b[0m\u001b[1;33m,\u001b[0m \u001b[0mprefix_sep\u001b[0m\u001b[1;33m)\u001b[0m\u001b[1;33m:\u001b[0m\u001b[1;33m\u001b[0m\u001b[1;33m\u001b[0m\u001b[0m\n\u001b[0;32m    914\u001b[0m             \u001b[1;31m# col is (column_name, column), use just column data here\u001b[0m\u001b[1;33m\u001b[0m\u001b[1;33m\u001b[0m\u001b[1;33m\u001b[0m\u001b[0m\n\u001b[1;32m--> 915\u001b[1;33m             dummy = _get_dummies_1d(\n\u001b[0m\u001b[0;32m    916\u001b[0m                 \u001b[0mcol\u001b[0m\u001b[1;33m[\u001b[0m\u001b[1;36m1\u001b[0m\u001b[1;33m]\u001b[0m\u001b[1;33m,\u001b[0m\u001b[1;33m\u001b[0m\u001b[1;33m\u001b[0m\u001b[0m\n\u001b[0;32m    917\u001b[0m                 \u001b[0mprefix\u001b[0m\u001b[1;33m=\u001b[0m\u001b[0mpre\u001b[0m\u001b[1;33m,\u001b[0m\u001b[1;33m\u001b[0m\u001b[1;33m\u001b[0m\u001b[0m\n",
      "\u001b[1;32mC:\\Programming\\Anaconda\\lib\\site-packages\\pandas\\core\\reshape\\reshape.py\u001b[0m in \u001b[0;36m_get_dummies_1d\u001b[1;34m(data, prefix, prefix_sep, dummy_na, sparse, drop_first, dtype)\u001b[0m\n\u001b[0;32m   1033\u001b[0m \u001b[1;33m\u001b[0m\u001b[0m\n\u001b[0;32m   1034\u001b[0m     \u001b[1;32melse\u001b[0m\u001b[1;33m:\u001b[0m\u001b[1;33m\u001b[0m\u001b[1;33m\u001b[0m\u001b[0m\n\u001b[1;32m-> 1035\u001b[1;33m         \u001b[0mdummy_mat\u001b[0m \u001b[1;33m=\u001b[0m \u001b[0mnp\u001b[0m\u001b[1;33m.\u001b[0m\u001b[0meye\u001b[0m\u001b[1;33m(\u001b[0m\u001b[0mnumber_of_cols\u001b[0m\u001b[1;33m,\u001b[0m \u001b[0mdtype\u001b[0m\u001b[1;33m=\u001b[0m\u001b[0mdtype\u001b[0m\u001b[1;33m)\u001b[0m\u001b[1;33m.\u001b[0m\u001b[0mtake\u001b[0m\u001b[1;33m(\u001b[0m\u001b[0mcodes\u001b[0m\u001b[1;33m,\u001b[0m \u001b[0maxis\u001b[0m\u001b[1;33m=\u001b[0m\u001b[1;36m0\u001b[0m\u001b[1;33m)\u001b[0m\u001b[1;33m\u001b[0m\u001b[1;33m\u001b[0m\u001b[0m\n\u001b[0m\u001b[0;32m   1036\u001b[0m \u001b[1;33m\u001b[0m\u001b[0m\n\u001b[0;32m   1037\u001b[0m         \u001b[1;32mif\u001b[0m \u001b[1;32mnot\u001b[0m \u001b[0mdummy_na\u001b[0m\u001b[1;33m:\u001b[0m\u001b[1;33m\u001b[0m\u001b[1;33m\u001b[0m\u001b[0m\n",
      "\u001b[1;31mMemoryError\u001b[0m: Unable to allocate 140. MiB for an array with shape (39999, 3678) and data type uint8"
     ]
    }
   ],
   "source": [
    "X_train, X_test, y_train, y_tests = import_and_create_train_test_data(os.path.dirname(notebook_path) +                                                                                                          data_folder + train_data_file)\n",
    "X_TEST = import_and_create_TEST_data(os.path.dirname(notebook_path) + data_folder + test_data_file)\n",
    "\n",
    "try:\n",
    "    drop=['CODE_GENDER_XNA', 'NAME_INCOME_TYPE_Maternity leave', 'NAME_FAMILY_STATUS_Unknown', 'SK_ID_CURR']\n",
    "    X_train = X_train.drop(drop, axis=1)\n",
    "    X_test = X_test.drop(drop, axis=1)\n",
    "except Exception:\n",
    "    pass\n"
   ]
  },
  {
   "cell_type": "code",
   "execution_count": null,
   "metadata": {},
   "outputs": [],
   "source": [
    "print(X_train)"
   ]
  }
 ]
}